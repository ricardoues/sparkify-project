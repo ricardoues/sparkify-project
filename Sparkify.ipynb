{
 "cells": [
  {
   "cell_type": "markdown",
   "metadata": {},
   "source": [
    "# Sparkify Project Workspace\n",
    "This workspace contains a tiny subset (128MB) of the full dataset available (12GB). Feel free to use this workspace to build your project, or to explore a smaller subset with Spark before deploying your cluster on the cloud. Instructions for setting up your Spark cluster is included in the last lesson of the Extracurricular Spark Course content.\n",
    "\n",
    "You can follow the steps below to guide your data analysis and model building portion of this project."
   ]
  },
  {
   "cell_type": "code",
   "execution_count": 1,
   "metadata": {},
   "outputs": [],
   "source": [
    "# import libraries\n",
    "import pyspark \n",
    "from pyspark import SparkConf \n",
    "from pyspark.sql import SparkSession\n",
    "\n",
    "from pyspark.sql.functions import isnan, count, when, col, desc, udf, col \n",
    "from pyspark.sql.functions import sort_array, asc, avg\n",
    "from pyspark.sql.functions import min as Fmin\n",
    "from pyspark.sql.functions import max as Fmax\n",
    "from pyspark.sql.functions import stddev as Fstddev\n",
    "from pyspark.ml.feature import OneHotEncoderEstimator, StringIndexer, VectorAssembler\n",
    "\n",
    "from pyspark.sql.functions import udf\n",
    "from pyspark.sql.types import IntegerType\n",
    "\n",
    "from pyspark.sql import Window\n",
    "\n",
    "from pyspark.sql.functions import sum as Fsum\n",
    "from pyspark.sql.functions import rank \n",
    "import pyspark.sql.functions as F\n",
    "from pyspark.sql import DataFrameStatFunctions as statFunc\n",
    "from pyspark.sql.functions import first\n",
    "from pyspark.sql.functions import lit\n",
    "\n",
    "import numpy as np\n",
    "import seaborn as sns\n",
    "import matplotlib.pyplot as plt\n",
    "sns.set(style=\"darkgrid\")\n",
    "\n",
    "from pyspark.ml import Pipeline\n",
    "from pyspark.ml.classification import RandomForestClassifier\n",
    "from pyspark.ml.evaluation import MulticlassClassificationEvaluator\n",
    "from pyspark.ml.tuning import CrossValidator, ParamGridBuilder\n",
    "from pyspark.mllib.evaluation import MulticlassMetrics\n",
    "from pyspark.ml.evaluation import MulticlassClassificationEvaluator"
   ]
  },
  {
   "cell_type": "code",
   "execution_count": 2,
   "metadata": {},
   "outputs": [],
   "source": [
    "# create a Spark session\n",
    "spark = SparkSession \\\n",
    "    .builder \\\n",
    "    .appName(\"Sparkify Project\") \\\n",
    "    .getOrCreate()"
   ]
  },
  {
   "cell_type": "markdown",
   "metadata": {},
   "source": [
    "# Load and Clean Dataset\n",
    "In this workspace, the mini-dataset file is `mini_sparkify_event_data.json`. Load and clean the dataset, checking for invalid or missing data - for example, records without userids or sessionids. "
   ]
  },
  {
   "cell_type": "code",
   "execution_count": 3,
   "metadata": {},
   "outputs": [
    {
     "name": "stdout",
     "output_type": "stream",
     "text": [
      "mini_sparkify_event_data.json  Sparkify.ipynb  Sparkify-zh.ipynb\r\n"
     ]
    }
   ],
   "source": [
    "! ls"
   ]
  },
  {
   "cell_type": "code",
   "execution_count": 4,
   "metadata": {},
   "outputs": [
    {
     "name": "stdout",
     "output_type": "stream",
     "text": [
      "total 123M\r\n",
      "-rw-r--r-- 1 root root 123M Dec 15  2018 mini_sparkify_event_data.json\r\n",
      "-rw-r--r-- 1 root root  50K Dec 20 03:09 Sparkify.ipynb\r\n",
      "-rw-r--r-- 1 root root 4.8K Jul 31 09:13 Sparkify-zh.ipynb\r\n"
     ]
    }
   ],
   "source": [
    "! ls -h -l "
   ]
  },
  {
   "cell_type": "code",
   "execution_count": 5,
   "metadata": {},
   "outputs": [],
   "source": [
    "path = \"./mini_sparkify_event_data.json\"\n",
    "sparkify_event_data = spark.read.json(path)"
   ]
  },
  {
   "cell_type": "markdown",
   "metadata": {},
   "source": [
    "Let's take a look at the first five records."
   ]
  },
  {
   "cell_type": "code",
   "execution_count": 6,
   "metadata": {},
   "outputs": [
    {
     "data": {
      "text/plain": [
       "[Row(artist='Martha Tilston', auth='Logged In', firstName='Colin', gender='M', itemInSession=50, lastName='Freeman', length=277.89016, level='paid', location='Bakersfield, CA', method='PUT', page='NextSong', registration=1538173362000, sessionId=29, song='Rockpools', status=200, ts=1538352117000, userAgent='Mozilla/5.0 (Windows NT 6.1; WOW64; rv:31.0) Gecko/20100101 Firefox/31.0', userId='30'),\n",
       " Row(artist='Five Iron Frenzy', auth='Logged In', firstName='Micah', gender='M', itemInSession=79, lastName='Long', length=236.09424, level='free', location='Boston-Cambridge-Newton, MA-NH', method='PUT', page='NextSong', registration=1538331630000, sessionId=8, song='Canada', status=200, ts=1538352180000, userAgent='\"Mozilla/5.0 (Windows NT 6.1; WOW64) AppleWebKit/537.36 (KHTML, like Gecko) Chrome/37.0.2062.103 Safari/537.36\"', userId='9'),\n",
       " Row(artist='Adam Lambert', auth='Logged In', firstName='Colin', gender='M', itemInSession=51, lastName='Freeman', length=282.8273, level='paid', location='Bakersfield, CA', method='PUT', page='NextSong', registration=1538173362000, sessionId=29, song='Time For Miracles', status=200, ts=1538352394000, userAgent='Mozilla/5.0 (Windows NT 6.1; WOW64; rv:31.0) Gecko/20100101 Firefox/31.0', userId='30'),\n",
       " Row(artist='Enigma', auth='Logged In', firstName='Micah', gender='M', itemInSession=80, lastName='Long', length=262.71302, level='free', location='Boston-Cambridge-Newton, MA-NH', method='PUT', page='NextSong', registration=1538331630000, sessionId=8, song='Knocking On Forbidden Doors', status=200, ts=1538352416000, userAgent='\"Mozilla/5.0 (Windows NT 6.1; WOW64) AppleWebKit/537.36 (KHTML, like Gecko) Chrome/37.0.2062.103 Safari/537.36\"', userId='9'),\n",
       " Row(artist='Daft Punk', auth='Logged In', firstName='Colin', gender='M', itemInSession=52, lastName='Freeman', length=223.60771, level='paid', location='Bakersfield, CA', method='PUT', page='NextSong', registration=1538173362000, sessionId=29, song='Harder Better Faster Stronger', status=200, ts=1538352676000, userAgent='Mozilla/5.0 (Windows NT 6.1; WOW64; rv:31.0) Gecko/20100101 Firefox/31.0', userId='30')]"
      ]
     },
     "execution_count": 6,
     "metadata": {},
     "output_type": "execute_result"
    }
   ],
   "source": [
    "sparkify_event_data.take(5)"
   ]
  },
  {
   "cell_type": "markdown",
   "metadata": {},
   "source": [
    "The above information is something hard to read that is why we will print the schema."
   ]
  },
  {
   "cell_type": "code",
   "execution_count": 7,
   "metadata": {},
   "outputs": [
    {
     "name": "stdout",
     "output_type": "stream",
     "text": [
      "root\n",
      " |-- artist: string (nullable = true)\n",
      " |-- auth: string (nullable = true)\n",
      " |-- firstName: string (nullable = true)\n",
      " |-- gender: string (nullable = true)\n",
      " |-- itemInSession: long (nullable = true)\n",
      " |-- lastName: string (nullable = true)\n",
      " |-- length: double (nullable = true)\n",
      " |-- level: string (nullable = true)\n",
      " |-- location: string (nullable = true)\n",
      " |-- method: string (nullable = true)\n",
      " |-- page: string (nullable = true)\n",
      " |-- registration: long (nullable = true)\n",
      " |-- sessionId: long (nullable = true)\n",
      " |-- song: string (nullable = true)\n",
      " |-- status: long (nullable = true)\n",
      " |-- ts: long (nullable = true)\n",
      " |-- userAgent: string (nullable = true)\n",
      " |-- userId: string (nullable = true)\n",
      "\n"
     ]
    }
   ],
   "source": [
    "sparkify_event_data.printSchema()"
   ]
  },
  {
   "cell_type": "markdown",
   "metadata": {},
   "source": [
    "We can see the columns that we have in the dataset. We will show statistics for each column in the dataset with the following code."
   ]
  },
  {
   "cell_type": "code",
   "execution_count": 8,
   "metadata": {},
   "outputs": [
    {
     "name": "stdout",
     "output_type": "stream",
     "text": [
      "+-------+------------------+----------+---------+------+------------------+--------+-----------------+------+-----------------+------+-------+--------------------+-----------------+--------------------+------------------+--------------------+--------------------+-----------------+\n",
      "|summary|            artist|      auth|firstName|gender|     itemInSession|lastName|           length| level|         location|method|   page|        registration|        sessionId|                song|            status|                  ts|           userAgent|           userId|\n",
      "+-------+------------------+----------+---------+------+------------------+--------+-----------------+------+-----------------+------+-------+--------------------+-----------------+--------------------+------------------+--------------------+--------------------+-----------------+\n",
      "|  count|            228108|    286500|   278154|278154|            286500|  278154|           228108|286500|           278154|286500| 286500|              278154|           286500|              228108|            286500|              286500|              278154|           286500|\n",
      "|   mean| 551.0852017937219|      null|     null|  null|114.41421291448516|    null|249.1171819778458|  null|             null|  null|   null|1.535358834084427...|1041.526554973822|            Infinity|210.05459685863875|1.540956889810483...|                null|59682.02278593872|\n",
      "| stddev|1217.7693079161374|      null|     null|  null|129.76726201140994|    null|99.23517921058361|  null|             null|  null|   null| 3.291321616327586E9|726.7762634630741|                 NaN| 31.50507848842214|1.5075439608226302E9|                null|109091.9499991047|\n",
      "|    min|               !!!| Cancelled| Adelaida|     F|                 0|   Adams|          0.78322|  free|       Albany, OR|   GET|  About|       1521380675000|                1|\u001c",
      "ÃÂg ÃÂtti Gr...|               200|       1538352117000|\"Mozilla/5.0 (Mac...|                 |\n",
      "|    max| ÃÂlafur Arnalds|Logged Out|   Zyonna|     M|              1321|  Wright|       3024.66567|  paid|Winston-Salem, NC|   PUT|Upgrade|       1543247354000|             2474|ÃÂau hafa slopp...|               404|       1543799476000|Mozilla/5.0 (comp...|               99|\n",
      "+-------+------------------+----------+---------+------+------------------+--------+-----------------+------+-----------------+------+-------+--------------------+-----------------+--------------------+------------------+--------------------+--------------------+-----------------+\n",
      "\n"
     ]
    }
   ],
   "source": [
    "sparkify_event_data.describe().show()"
   ]
  },
  {
   "cell_type": "markdown",
   "metadata": {},
   "source": [
    "The above information is difficult to read, we will take a look at individual columns."
   ]
  },
  {
   "cell_type": "code",
   "execution_count": 9,
   "metadata": {},
   "outputs": [
    {
     "name": "stdout",
     "output_type": "stream",
     "text": [
      "+-------+------------------+\n",
      "|summary|            artist|\n",
      "+-------+------------------+\n",
      "|  count|            228108|\n",
      "|   mean| 551.0852017937219|\n",
      "| stddev|1217.7693079161374|\n",
      "|    min|               !!!|\n",
      "|    max| ÃÂlafur Arnalds|\n",
      "+-------+------------------+\n",
      "\n"
     ]
    }
   ],
   "source": [
    "sparkify_event_data.describe('artist').show()"
   ]
  },
  {
   "cell_type": "markdown",
   "metadata": {},
   "source": [
    "The above output is something strange because artist is string and the method describe is not enough smart to give us more useful information. Due to the variable is string we will show some values with the following code."
   ]
  },
  {
   "cell_type": "code",
   "execution_count": 10,
   "metadata": {},
   "outputs": [
    {
     "name": "stdout",
     "output_type": "stream",
     "text": [
      "+--------------------+\n",
      "|              artist|\n",
      "+--------------------+\n",
      "|                null|\n",
      "|                 !!!|\n",
      "|        & And Oceans|\n",
      "|'N Sync/Phil Collins|\n",
      "|        'Til Tuesday|\n",
      "| 't Hof Van Commerce|\n",
      "+--------------------+\n",
      "only showing top 6 rows\n",
      "\n"
     ]
    }
   ],
   "source": [
    "sparkify_event_data.select(\"artist\").dropDuplicates().sort(\"artist\").show(n=6)"
   ]
  },
  {
   "cell_type": "markdown",
   "metadata": {},
   "source": [
    "We will check how many rows we have in the dataframe."
   ]
  },
  {
   "cell_type": "code",
   "execution_count": 11,
   "metadata": {},
   "outputs": [
    {
     "data": {
      "text/plain": [
       "286500"
      ]
     },
     "execution_count": 11,
     "metadata": {},
     "output_type": "execute_result"
    }
   ],
   "source": [
    "sparkify_event_data.count()"
   ]
  },
  {
   "cell_type": "markdown",
   "metadata": {},
   "source": [
    "From the above, we conclude that the column artist has not a value for all of our records. This makes sense, since if the record does not refer to playing a song. We will show information about the other columns."
   ]
  },
  {
   "cell_type": "code",
   "execution_count": 12,
   "metadata": {},
   "outputs": [
    {
     "name": "stdout",
     "output_type": "stream",
     "text": [
      "+----------+\n",
      "|      auth|\n",
      "+----------+\n",
      "| Cancelled|\n",
      "|     Guest|\n",
      "| Logged In|\n",
      "|Logged Out|\n",
      "+----------+\n",
      "\n"
     ]
    }
   ],
   "source": [
    "sparkify_event_data.select(\"auth\").dropDuplicates().sort(\"auth\").show()"
   ]
  },
  {
   "cell_type": "markdown",
   "metadata": {},
   "source": [
    "The auth column refers to the current state of the session."
   ]
  },
  {
   "cell_type": "code",
   "execution_count": 13,
   "metadata": {},
   "outputs": [
    {
     "name": "stdout",
     "output_type": "stream",
     "text": [
      "+---------+\n",
      "|firstName|\n",
      "+---------+\n",
      "|     null|\n",
      "| Adelaida|\n",
      "|   Adrian|\n",
      "|  Adriana|\n",
      "|   Adriel|\n",
      "|  Ainsley|\n",
      "+---------+\n",
      "only showing top 6 rows\n",
      "\n"
     ]
    }
   ],
   "source": [
    "sparkify_event_data.select(\"firstName\").dropDuplicates().sort(\"firstName\").show(n=6)"
   ]
  },
  {
   "cell_type": "markdown",
   "metadata": {},
   "source": [
    "There are null values in the firstName column, it is possible that they are the [guest users](https://www.pcmag.com/encyclopedia/term/43999/guest-account). "
   ]
  },
  {
   "cell_type": "code",
   "execution_count": 14,
   "metadata": {},
   "outputs": [
    {
     "name": "stdout",
     "output_type": "stream",
     "text": [
      "+------+\n",
      "|gender|\n",
      "+------+\n",
      "|  null|\n",
      "|     F|\n",
      "|     M|\n",
      "+------+\n",
      "\n"
     ]
    }
   ],
   "source": [
    "sparkify_event_data.select(\"gender\").dropDuplicates().sort(\"gender\").show()"
   ]
  },
  {
   "cell_type": "code",
   "execution_count": 15,
   "metadata": {},
   "outputs": [
    {
     "name": "stdout",
     "output_type": "stream",
     "text": [
      "+------+-----------+\n",
      "|gender|Gendercount|\n",
      "+------+-----------+\n",
      "|     F|     154578|\n",
      "|     M|     123576|\n",
      "|  null|          0|\n",
      "+------+-----------+\n",
      "\n"
     ]
    }
   ],
   "source": [
    "sparkify_event_data.select(\"gender\") \\\n",
    "     .groupBy(\"gender\") \\\n",
    "     .agg({'gender' : 'count'}) \\\n",
    "     .withColumnRenamed('count(gender)', 'Gendercount') \\\n",
    "     .sort(desc('Gendercount')) \\\n",
    "     .show()"
   ]
  },
  {
   "cell_type": "markdown",
   "metadata": {},
   "source": [
    "There are zero null values in the gender column."
   ]
  },
  {
   "cell_type": "code",
   "execution_count": 16,
   "metadata": {},
   "outputs": [
    {
     "name": "stdout",
     "output_type": "stream",
     "text": [
      "+-------+------------------+\n",
      "|summary|     itemInSession|\n",
      "+-------+------------------+\n",
      "|  count|            286500|\n",
      "|   mean|114.41421291448516|\n",
      "| stddev|129.76726201140994|\n",
      "|    min|                 0|\n",
      "|    max|              1321|\n",
      "+-------+------------------+\n",
      "\n"
     ]
    }
   ],
   "source": [
    "sparkify_event_data.describe(\"itemInSession\").show()"
   ]
  },
  {
   "cell_type": "markdown",
   "metadata": {},
   "source": [
    "There are not missing values in the itemInSession variable. It seems that this variable referes to an internal code for the session in the browser. "
   ]
  },
  {
   "cell_type": "code",
   "execution_count": 17,
   "metadata": {},
   "outputs": [
    {
     "name": "stdout",
     "output_type": "stream",
     "text": [
      "+---------+\n",
      "| lastname|\n",
      "+---------+\n",
      "|     null|\n",
      "|    Adams|\n",
      "|  Aguilar|\n",
      "|Alexander|\n",
      "|    Allen|\n",
      "| Atkinson|\n",
      "+---------+\n",
      "only showing top 6 rows\n",
      "\n"
     ]
    }
   ],
   "source": [
    "sparkify_event_data.select(\"lastname\").dropDuplicates().sort(\"lastname\").show(n=6)"
   ]
  },
  {
   "cell_type": "markdown",
   "metadata": {},
   "source": [
    "There are null values in the lastname column, it is possible that they are the [guest users](https://www.pcmag.com/encyclopedia/term/43999/guest-account). "
   ]
  },
  {
   "cell_type": "code",
   "execution_count": 18,
   "metadata": {},
   "outputs": [
    {
     "name": "stdout",
     "output_type": "stream",
     "text": [
      "+-------+-----------------+\n",
      "|summary|           length|\n",
      "+-------+-----------------+\n",
      "|  count|           228108|\n",
      "|   mean|249.1171819778458|\n",
      "| stddev|99.23517921058361|\n",
      "|    min|          0.78322|\n",
      "|    max|       3024.66567|\n",
      "+-------+-----------------+\n",
      "\n"
     ]
    }
   ],
   "source": [
    "sparkify_event_data.describe('length').show()"
   ]
  },
  {
   "cell_type": "markdown",
   "metadata": {},
   "source": [
    "There are null values in the length variable."
   ]
  },
  {
   "cell_type": "code",
   "execution_count": 19,
   "metadata": {},
   "outputs": [
    {
     "name": "stdout",
     "output_type": "stream",
     "text": [
      "+---------+------+----+\n",
      "|     auth|length|song|\n",
      "+---------+------+----+\n",
      "|Logged In|  null|null|\n",
      "|Logged In|  null|null|\n",
      "|Logged In|  null|null|\n",
      "|Logged In|  null|null|\n",
      "|Logged In|  null|null|\n",
      "|Logged In|  null|null|\n",
      "+---------+------+----+\n",
      "only showing top 6 rows\n",
      "\n"
     ]
    }
   ],
   "source": [
    "sparkify_event_data.select(['auth', 'length', 'song']).where(sparkify_event_data[\"length\"].isNull()).show(n=6)"
   ]
  },
  {
   "cell_type": "markdown",
   "metadata": {},
   "source": [
    "It seems that when the length is null also the song is null."
   ]
  },
  {
   "cell_type": "code",
   "execution_count": 20,
   "metadata": {},
   "outputs": [
    {
     "name": "stdout",
     "output_type": "stream",
     "text": [
      "+--------+\n",
      "|  length|\n",
      "+--------+\n",
      "|    null|\n",
      "| 0.78322|\n",
      "| 2.16771|\n",
      "| 4.04853|\n",
      "|  4.8322|\n",
      "|  6.3473|\n",
      "| 7.83628|\n",
      "| 8.30649|\n",
      "| 9.01179|\n",
      "|10.03057|\n",
      "|10.52689|\n",
      "|11.20608|\n",
      "|11.25832|\n",
      "|11.36281|\n",
      "|11.49342|\n",
      "|11.54567|\n",
      "|11.93751|\n",
      "|11.98975|\n",
      "|12.22485|\n",
      "|12.30322|\n",
      "+--------+\n",
      "only showing top 20 rows\n",
      "\n"
     ]
    }
   ],
   "source": [
    "sparkify_event_data.select(\"length\").dropDuplicates().sort(\"length\").show()"
   ]
  },
  {
   "cell_type": "markdown",
   "metadata": {},
   "source": [
    "This variable is the difference between the current and next value of ts (time stamp)."
   ]
  },
  {
   "cell_type": "code",
   "execution_count": 21,
   "metadata": {},
   "outputs": [
    {
     "name": "stdout",
     "output_type": "stream",
     "text": [
      "+-----+\n",
      "|level|\n",
      "+-----+\n",
      "| free|\n",
      "| paid|\n",
      "+-----+\n",
      "\n"
     ]
    }
   ],
   "source": [
    "sparkify_event_data.select(\"level\").dropDuplicates().sort(\"level\").show()"
   ]
  },
  {
   "cell_type": "markdown",
   "metadata": {},
   "source": [
    "The above variable reflects the type of subscription. "
   ]
  },
  {
   "cell_type": "code",
   "execution_count": 22,
   "metadata": {},
   "outputs": [
    {
     "name": "stdout",
     "output_type": "stream",
     "text": [
      "+--------------------+\n",
      "|            location|\n",
      "+--------------------+\n",
      "|                null|\n",
      "|          Albany, OR|\n",
      "|Albany-Schenectad...|\n",
      "|      Alexandria, LA|\n",
      "|Allentown-Bethleh...|\n",
      "|       Anchorage, AK|\n",
      "+--------------------+\n",
      "only showing top 6 rows\n",
      "\n"
     ]
    }
   ],
   "source": [
    "sparkify_event_data.select(\"location\").dropDuplicates().sort(\"location\").show(n=6)"
   ]
  },
  {
   "cell_type": "markdown",
   "metadata": {},
   "source": [
    "It is possible that this variable is the location where the user is connected."
   ]
  },
  {
   "cell_type": "code",
   "execution_count": 23,
   "metadata": {},
   "outputs": [
    {
     "name": "stdout",
     "output_type": "stream",
     "text": [
      "+------+\n",
      "|method|\n",
      "+------+\n",
      "|   GET|\n",
      "|   PUT|\n",
      "+------+\n",
      "\n"
     ]
    }
   ],
   "source": [
    "sparkify_event_data.select(\"method\").dropDuplicates().sort(\"method\").show()"
   ]
  },
  {
   "cell_type": "markdown",
   "metadata": {},
   "source": [
    "This variable is related to the http protocol. The values of this variable are explicated below:\n",
    "\n",
    "* GET: is used for retrieve data from a web server.\n",
    "* PUT: is used to create or overwrite a resource at a particular URL that is known by the client. "
   ]
  },
  {
   "cell_type": "code",
   "execution_count": 24,
   "metadata": {},
   "outputs": [
    {
     "name": "stdout",
     "output_type": "stream",
     "text": [
      "+--------------------+\n",
      "|                page|\n",
      "+--------------------+\n",
      "|               About|\n",
      "|          Add Friend|\n",
      "|     Add to Playlist|\n",
      "|              Cancel|\n",
      "|Cancellation Conf...|\n",
      "|           Downgrade|\n",
      "+--------------------+\n",
      "only showing top 6 rows\n",
      "\n"
     ]
    }
   ],
   "source": [
    "sparkify_event_data.select(\"page\").dropDuplicates().sort(\"page\").show(n=6)"
   ]
  },
  {
   "cell_type": "markdown",
   "metadata": {},
   "source": [
    "This variable will be useful for generating the label or response variable."
   ]
  },
  {
   "cell_type": "code",
   "execution_count": 25,
   "metadata": {},
   "outputs": [
    {
     "name": "stdout",
     "output_type": "stream",
     "text": [
      "+-------------+\n",
      "| registration|\n",
      "+-------------+\n",
      "|         null|\n",
      "|1521380675000|\n",
      "|1526739206000|\n",
      "|1526838391000|\n",
      "|1528403713000|\n",
      "|1528560242000|\n",
      "+-------------+\n",
      "only showing top 6 rows\n",
      "\n"
     ]
    }
   ],
   "source": [
    "sparkify_event_data.select(\"registration\").dropDuplicates().sort(\"registration\").show(n=6)"
   ]
  },
  {
   "cell_type": "code",
   "execution_count": 26,
   "metadata": {},
   "outputs": [
    {
     "name": "stdout",
     "output_type": "stream",
     "text": [
      "+----------+------+----+------------+\n",
      "|      auth|length|song|registration|\n",
      "+----------+------+----+------------+\n",
      "|Logged Out|  null|null|        null|\n",
      "|Logged Out|  null|null|        null|\n",
      "|Logged Out|  null|null|        null|\n",
      "|Logged Out|  null|null|        null|\n",
      "|Logged Out|  null|null|        null|\n",
      "|Logged Out|  null|null|        null|\n",
      "+----------+------+----+------------+\n",
      "only showing top 6 rows\n",
      "\n"
     ]
    }
   ],
   "source": [
    "sparkify_event_data.select(['auth', 'length', 'song', 'registration']).where(sparkify_event_data[\"registration\"].isNull()).show(n=6)"
   ]
  },
  {
   "cell_type": "markdown",
   "metadata": {},
   "source": [
    "It seems that this variable is some kind of identifier. In this variable there are null values and because of that it is possible that these nulls are associated with [guest users](https://www.pcmag.com/encyclopedia/term/43999/guest-account)."
   ]
  },
  {
   "cell_type": "code",
   "execution_count": 27,
   "metadata": {},
   "outputs": [
    {
     "name": "stdout",
     "output_type": "stream",
     "text": [
      "+-------+-----------------+\n",
      "|summary|        sessionId|\n",
      "+-------+-----------------+\n",
      "|  count|           286500|\n",
      "|   mean|1041.526554973822|\n",
      "| stddev|726.7762634630741|\n",
      "|    min|                1|\n",
      "|    max|             2474|\n",
      "+-------+-----------------+\n",
      "\n"
     ]
    }
   ],
   "source": [
    "sparkify_event_data.describe(\"sessionId\").show()"
   ]
  },
  {
   "cell_type": "code",
   "execution_count": 28,
   "metadata": {},
   "outputs": [
    {
     "name": "stdout",
     "output_type": "stream",
     "text": [
      "+---------+\n",
      "|sessionId|\n",
      "+---------+\n",
      "|        1|\n",
      "|        2|\n",
      "|        3|\n",
      "|        4|\n",
      "|        5|\n",
      "|        6|\n",
      "+---------+\n",
      "only showing top 6 rows\n",
      "\n"
     ]
    }
   ],
   "source": [
    "sparkify_event_data.select(\"sessionId\").dropDuplicates().sort(\"sessionId\").show(n=6)"
   ]
  },
  {
   "cell_type": "markdown",
   "metadata": {},
   "source": [
    "It seems that this variables is a kind of identifier for the session, there are no missinb values in this variable."
   ]
  },
  {
   "cell_type": "code",
   "execution_count": 29,
   "metadata": {},
   "outputs": [
    {
     "name": "stdout",
     "output_type": "stream",
     "text": [
      "+--------------------+\n",
      "|                song|\n",
      "+--------------------+\n",
      "|                null|\n",
      "|\u001c",
      "ÃÂg ÃÂtti Gr...|\n",
      "| I Will Not Reap ...|\n",
      "|              !@*$%#|\n",
      "|#!*@ You Tonight ...|\n",
      "|                  #1|\n",
      "+--------------------+\n",
      "only showing top 6 rows\n",
      "\n"
     ]
    }
   ],
   "source": [
    "sparkify_event_data.select(\"song\").dropDuplicates().sort(\"song\").show(n=6)"
   ]
  },
  {
   "cell_type": "markdown",
   "metadata": {},
   "source": [
    "From the above, we conclude that the column artist has not a value for all of our records. This makes sense, since if the record does not refer to playing a song."
   ]
  },
  {
   "cell_type": "code",
   "execution_count": 30,
   "metadata": {},
   "outputs": [
    {
     "name": "stdout",
     "output_type": "stream",
     "text": [
      "+------+\n",
      "|status|\n",
      "+------+\n",
      "|   307|\n",
      "|   404|\n",
      "|   200|\n",
      "+------+\n",
      "\n"
     ]
    }
   ],
   "source": [
    "sparkify_event_data.select(\"status\").dropDuplicates().show()"
   ]
  },
  {
   "cell_type": "markdown",
   "metadata": {},
   "source": [
    "The above refers to HTTP standard response code. \n",
    "\n",
    "* 404: Page not found \n",
    "* 200: OK \n",
    "* 307: Temporary redirect"
   ]
  },
  {
   "cell_type": "code",
   "execution_count": 31,
   "metadata": {},
   "outputs": [
    {
     "name": "stdout",
     "output_type": "stream",
     "text": [
      "+-------------+\n",
      "|           ts|\n",
      "+-------------+\n",
      "|1538352117000|\n",
      "|1538352180000|\n",
      "|1538352394000|\n",
      "|1538352416000|\n",
      "|1538352676000|\n",
      "|1538352678000|\n",
      "+-------------+\n",
      "only showing top 6 rows\n",
      "\n"
     ]
    }
   ],
   "source": [
    "sparkify_event_data.select(\"ts\").dropDuplicates().sort(\"ts\").show(n=6)"
   ]
  },
  {
   "cell_type": "code",
   "execution_count": 32,
   "metadata": {},
   "outputs": [
    {
     "name": "stdout",
     "output_type": "stream",
     "text": [
      "+-------+--------------------+\n",
      "|summary|                  ts|\n",
      "+-------+--------------------+\n",
      "|  count|              286500|\n",
      "|   mean|1.540956889810483...|\n",
      "| stddev|1.5075439608226302E9|\n",
      "|    min|       1538352117000|\n",
      "|    max|       1543799476000|\n",
      "+-------+--------------------+\n",
      "\n"
     ]
    }
   ],
   "source": [
    "sparkify_event_data.describe(\"ts\").show()"
   ]
  },
  {
   "cell_type": "markdown",
   "metadata": {},
   "source": [
    "This variable is referred to the time stamp."
   ]
  },
  {
   "cell_type": "code",
   "execution_count": 33,
   "metadata": {},
   "outputs": [
    {
     "name": "stdout",
     "output_type": "stream",
     "text": [
      "+--------------------+\n",
      "|           UserAgent|\n",
      "+--------------------+\n",
      "|                null|\n",
      "|\"Mozilla/5.0 (Mac...|\n",
      "|\"Mozilla/5.0 (Mac...|\n",
      "|\"Mozilla/5.0 (Mac...|\n",
      "|\"Mozilla/5.0 (Mac...|\n",
      "|\"Mozilla/5.0 (Mac...|\n",
      "|\"Mozilla/5.0 (Mac...|\n",
      "|\"Mozilla/5.0 (Mac...|\n",
      "|\"Mozilla/5.0 (Mac...|\n",
      "|\"Mozilla/5.0 (Mac...|\n",
      "|\"Mozilla/5.0 (Mac...|\n",
      "|\"Mozilla/5.0 (Mac...|\n",
      "|\"Mozilla/5.0 (Mac...|\n",
      "|\"Mozilla/5.0 (Mac...|\n",
      "|\"Mozilla/5.0 (Mac...|\n",
      "|\"Mozilla/5.0 (Mac...|\n",
      "|\"Mozilla/5.0 (Mac...|\n",
      "|\"Mozilla/5.0 (Mac...|\n",
      "|\"Mozilla/5.0 (Win...|\n",
      "|\"Mozilla/5.0 (Win...|\n",
      "+--------------------+\n",
      "only showing top 20 rows\n",
      "\n"
     ]
    }
   ],
   "source": [
    "sparkify_event_data.select(\"UserAgent\").dropDuplicates().sort(\"UserAgent\").show()"
   ]
  },
  {
   "cell_type": "code",
   "execution_count": 34,
   "metadata": {},
   "outputs": [
    {
     "name": "stdout",
     "output_type": "stream",
     "text": [
      "+----------+------+----+------------+---------+\n",
      "|      auth|length|song|registration|UserAgent|\n",
      "+----------+------+----+------------+---------+\n",
      "|Logged Out|  null|null|        null|     null|\n",
      "|Logged Out|  null|null|        null|     null|\n",
      "|Logged Out|  null|null|        null|     null|\n",
      "|Logged Out|  null|null|        null|     null|\n",
      "|Logged Out|  null|null|        null|     null|\n",
      "|Logged Out|  null|null|        null|     null|\n",
      "+----------+------+----+------------+---------+\n",
      "only showing top 6 rows\n",
      "\n"
     ]
    }
   ],
   "source": [
    "sparkify_event_data.select(['auth', 'length', 'song', 'registration', 'UserAgent']).where(sparkify_event_data[\"UserAgent\"].isNull()).show(n=6)"
   ]
  },
  {
   "cell_type": "markdown",
   "metadata": {},
   "source": [
    "This variables is refered to the web browser."
   ]
  },
  {
   "cell_type": "code",
   "execution_count": 35,
   "metadata": {},
   "outputs": [
    {
     "name": "stdout",
     "output_type": "stream",
     "text": [
      "+------+\n",
      "|userId|\n",
      "+------+\n",
      "|      |\n",
      "|    10|\n",
      "|   100|\n",
      "|100001|\n",
      "|100002|\n",
      "|100003|\n",
      "+------+\n",
      "only showing top 6 rows\n",
      "\n"
     ]
    }
   ],
   "source": [
    "sparkify_event_data.select(\"userId\").dropDuplicates().sort(\"userId\").show(n=6)"
   ]
  },
  {
   "cell_type": "markdown",
   "metadata": {},
   "source": [
    "This variable is the user id. There are null values that because of that it is possible that these nulls are associated with [guest users](https://www.pcmag.com/encyclopedia/term/43999/guest-account)."
   ]
  },
  {
   "cell_type": "code",
   "execution_count": 36,
   "metadata": {},
   "outputs": [
    {
     "data": {
      "text/plain": [
       "226"
      ]
     },
     "execution_count": 36,
     "metadata": {},
     "output_type": "execute_result"
    }
   ],
   "source": [
    "sparkify_event_data.select(\"userId\").dropDuplicates().count()"
   ]
  },
  {
   "cell_type": "markdown",
   "metadata": {},
   "source": [
    "There are 226 users."
   ]
  },
  {
   "cell_type": "code",
   "execution_count": 37,
   "metadata": {},
   "outputs": [
    {
     "data": {
      "text/plain": [
       "166"
      ]
     },
     "execution_count": 37,
     "metadata": {},
     "output_type": "execute_result"
    }
   ],
   "source": [
    "sparkify_event_data.select([\"userId\", \"level\"]) \\\n",
    "      .filter(sparkify_event_data[\"level\"] == \"paid\") \\\n",
    "      .select(\"userId\") \\\n",
    "      .dropDuplicates() \\\n",
    "      .count()"
   ]
  },
  {
   "cell_type": "markdown",
   "metadata": {},
   "source": [
    "There are 166 paid users."
   ]
  },
  {
   "cell_type": "code",
   "execution_count": 38,
   "metadata": {},
   "outputs": [
    {
     "data": {
      "text/plain": [
       "196"
      ]
     },
     "execution_count": 38,
     "metadata": {},
     "output_type": "execute_result"
    }
   ],
   "source": [
    "sparkify_event_data.select([\"userId\", \"level\"]) \\\n",
    "      .filter(sparkify_event_data[\"level\"] == \"free\") \\\n",
    "      .select(\"userId\") \\\n",
    "      .dropDuplicates() \\\n",
    "      .count()"
   ]
  },
  {
   "cell_type": "markdown",
   "metadata": {},
   "source": [
    "There are 196 users."
   ]
  },
  {
   "cell_type": "code",
   "execution_count": 39,
   "metadata": {},
   "outputs": [
    {
     "name": "stdout",
     "output_type": "stream",
     "text": [
      "+-----+----------+\n",
      "|level|Levelcount|\n",
      "+-----+----------+\n",
      "| paid|    228162|\n",
      "| free|     58338|\n",
      "+-----+----------+\n",
      "\n"
     ]
    }
   ],
   "source": [
    "sparkify_event_data.select([\"level\"]) \\\n",
    "     .groupBy(\"level\") \\\n",
    "     .agg({'level' : 'count'}) \\\n",
    "     .withColumnRenamed('count(level)', 'Levelcount') \\\n",
    "     .sort(desc('Levelcount')) \\\n",
    "     .show()"
   ]
  },
  {
   "cell_type": "markdown",
   "metadata": {},
   "source": [
    "The above table shows the usage of the sparkify app between paid and free users. It seems that paid users are using the app more often than free users. We will verify if there are users who have paid and free plan at some time."
   ]
  },
  {
   "cell_type": "code",
   "execution_count": 40,
   "metadata": {},
   "outputs": [
    {
     "data": {
      "text/plain": [
       "136"
      ]
     },
     "execution_count": 40,
     "metadata": {},
     "output_type": "execute_result"
    }
   ],
   "source": [
    "# good reference \n",
    "# https://stackoverflow.com/questions/44168379/how-to-check-for-intersection-of-two-dataframe-columns-in-spark\n",
    "\n",
    "sparkify_event_data.filter(sparkify_event_data[\"level\"] == \"paid\") \\\n",
    "      .select(\"userId\").dropDuplicates() \\\n",
    "      .intersect(sparkify_event_data.filter(sparkify_event_data[\"level\"] == \"free\") \\\n",
    "      .select(\"userId\").dropDuplicates() \\\n",
    "      ).count()"
   ]
  },
  {
   "cell_type": "markdown",
   "metadata": {},
   "source": [
    "There are 136 users who have paid and free plan at some time."
   ]
  },
  {
   "cell_type": "markdown",
   "metadata": {},
   "source": [
    "We will get the events associated with the user with id equals to 100001."
   ]
  },
  {
   "cell_type": "code",
   "execution_count": 41,
   "metadata": {},
   "outputs": [
    {
     "data": {
      "text/plain": [
       "[Row(page='Home', userId='100001', auth='Logged In', status=200, song=None),\n",
       " Row(page='NextSong', userId='100001', auth='Logged In', status=200, song='Just Dance'),\n",
       " Row(page='Roll Advert', userId='100001', auth='Logged In', status=200, song=None),\n",
       " Row(page='NextSong', userId='100001', auth='Logged In', status=200, song='Kids With Guns (Quiet Village Remix)'),\n",
       " Row(page='Roll Advert', userId='100001', auth='Logged In', status=200, song=None),\n",
       " Row(page='NextSong', userId='100001', auth='Logged In', status=200, song=\"Do You Think I'm Spooky?\"),\n",
       " Row(page='NextSong', userId='100001', auth='Logged In', status=200, song=\"Can't Hardly Wait (Remastered Version)\"),\n",
       " Row(page='NextSong', userId='100001', auth='Logged In', status=200, song='Propane Nightmares'),\n",
       " Row(page='NextSong', userId='100001', auth='Logged In', status=200, song='Falling'),\n",
       " Row(page='NextSong', userId='100001', auth='Logged In', status=200, song='Runaway'),\n",
       " Row(page='NextSong', userId='100001', auth='Logged In', status=200, song='My Enemy'),\n",
       " Row(page='NextSong', userId='100001', auth='Logged In', status=200, song='Rise Above (Live) (Album Version)'),\n",
       " Row(page='NextSong', userId='100001', auth='Logged In', status=200, song='The Middle'),\n",
       " Row(page='NextSong', userId='100001', auth='Logged In', status=200, song='Break It Off'),\n",
       " Row(page='Roll Advert', userId='100001', auth='Logged In', status=200, song=None),\n",
       " Row(page='NextSong', userId='100001', auth='Logged In', status=200, song='Around The Way Girl'),\n",
       " Row(page='NextSong', userId='100001', auth='Logged In', status=200, song='All I Ever Wanted'),\n",
       " Row(page='NextSong', userId='100001', auth='Logged In', status=200, song='Leavin'),\n",
       " Row(page='NextSong', userId='100001', auth='Logged In', status=200, song='End Of The Line (Album Version)'),\n",
       " Row(page='Logout', userId='100001', auth='Logged In', status=307, song=None),\n",
       " Row(page='Home', userId='100001', auth='Logged In', status=200, song=None),\n",
       " Row(page='NextSong', userId='100001', auth='Logged In', status=200, song='Undo'),\n",
       " Row(page='NextSong', userId='100001', auth='Logged In', status=200, song='Frankie Machine (Part Two)'),\n",
       " Row(page='NextSong', userId='100001', auth='Logged In', status=200, song=\"It's Getting Boring By The Sea\"),\n",
       " Row(page='Thumbs Down', userId='100001', auth='Logged In', status=307, song=None),\n",
       " Row(page='NextSong', userId='100001', auth='Logged In', status=200, song='Cavity Search (Paody of \"Hold Me_ Thrill Me_ Kiss Me_ Kill Me\" by U2)'),\n",
       " Row(page='NextSong', userId='100001', auth='Logged In', status=200, song='Almaz'),\n",
       " Row(page='NextSong', userId='100001', auth='Logged In', status=200, song=\"You're The One\"),\n",
       " Row(page='NextSong', userId='100001', auth='Logged In', status=200, song='All My Friends'),\n",
       " Row(page='NextSong', userId='100001', auth='Logged In', status=200, song='Too Young'),\n",
       " Row(page='Roll Advert', userId='100001', auth='Logged In', status=200, song=None),\n",
       " Row(page='NextSong', userId='100001', auth='Logged In', status=200, song='It Takes Two'),\n",
       " Row(page='Roll Advert', userId='100001', auth='Logged In', status=200, song=None),\n",
       " Row(page='NextSong', userId='100001', auth='Logged In', status=200, song='Fly Like An Eagle'),\n",
       " Row(page='NextSong', userId='100001', auth='Logged In', status=200, song='Mushrooms'),\n",
       " Row(page='NextSong', userId='100001', auth='Logged In', status=200, song='I Will Love You'),\n",
       " Row(page='NextSong', userId='100001', auth='Logged In', status=200, song='Take What You Take'),\n",
       " Row(page='Logout', userId='100001', auth='Logged In', status=307, song=None),\n",
       " Row(page='Home', userId='100001', auth='Logged In', status=200, song=None),\n",
       " Row(page='NextSong', userId='100001', auth='Logged In', status=200, song='Rigs Of The Time'),\n",
       " Row(page='Add Friend', userId='100001', auth='Logged In', status=307, song=None),\n",
       " Row(page='NextSong', userId='100001', auth='Logged In', status=200, song='Sehr kosmisch'),\n",
       " Row(page='NextSong', userId='100001', auth='Logged In', status=200, song='Curve of the Earth'),\n",
       " Row(page='NextSong', userId='100001', auth='Logged In', status=200, song='Just Lose It'),\n",
       " Row(page='NextSong', userId='100001', auth='Logged In', status=200, song=\"It's Not Easy\"),\n",
       " Row(page='Thumbs Up', userId='100001', auth='Logged In', status=307, song=None),\n",
       " Row(page='NextSong', userId='100001', auth='Logged In', status=200, song='The Day After Tomorrow'),\n",
       " Row(page='NextSong', userId='100001', auth='Logged In', status=200, song='If I Could'),\n",
       " Row(page='Add to Playlist', userId='100001', auth='Logged In', status=200, song=None),\n",
       " Row(page='NextSong', userId='100001', auth='Logged In', status=200, song='Blood To Bleed'),\n",
       " Row(page='Logout', userId='100001', auth='Logged In', status=307, song=None),\n",
       " Row(page='Home', userId='100001', auth='Logged In', status=200, song=None),\n",
       " Row(page='NextSong', userId='100001', auth='Logged In', status=200, song='Resignation (Live) (Album Version)'),\n",
       " Row(page='NextSong', userId='100001', auth='Logged In', status=200, song='Woman'),\n",
       " Row(page='Thumbs Up', userId='100001', auth='Logged In', status=307, song=None),\n",
       " Row(page='NextSong', userId='100001', auth='Logged In', status=200, song=\"Wong Chia Chi's Theme\"),\n",
       " Row(page='NextSong', userId='100001', auth='Logged In', status=200, song='Hero'),\n",
       " Row(page='NextSong', userId='100001', auth='Logged In', status=200, song=\"You're The One\"),\n",
       " Row(page='NextSong', userId='100001', auth='Logged In', status=200, song='Bossa (Digitally Remastered)'),\n",
       " Row(page='NextSong', userId='100001', auth='Logged In', status=200, song='Bury The Living'),\n",
       " Row(page='Roll Advert', userId='100001', auth='Logged In', status=200, song=None),\n",
       " Row(page='NextSong', userId='100001', auth='Logged In', status=200, song='Pursuit Of Happiness (nightmare)'),\n",
       " Row(page='NextSong', userId='100001', auth='Logged In', status=200, song='Smile'),\n",
       " Row(page='NextSong', userId='100001', auth='Logged In', status=200, song='Coffee And TV'),\n",
       " Row(page='NextSong', userId='100001', auth='Logged In', status=200, song='Dog Days Are Over (Radio Edit)'),\n",
       " Row(page='NextSong', userId='100001', auth='Logged In', status=200, song='I Wanna Be Your Lover (LP Version)'),\n",
       " Row(page='NextSong', userId='100001', auth='Logged In', status=200, song='The Pulse'),\n",
       " Row(page='NextSong', userId='100001', auth='Logged In', status=200, song='Undo'),\n",
       " Row(page='NextSong', userId='100001', auth='Logged In', status=200, song='Tired Of Waiting For You'),\n",
       " Row(page='Settings', userId='100001', auth='Logged In', status=200, song=None),\n",
       " Row(page='NextSong', userId='100001', auth='Logged In', status=200, song='If Tomorrow Never Comes'),\n",
       " Row(page='NextSong', userId='100001', auth='Logged In', status=200, song='Almost Crimes'),\n",
       " Row(page='NextSong', userId='100001', auth='Logged In', status=200, song='To Be A Lover'),\n",
       " Row(page='NextSong', userId='100001', auth='Logged In', status=200, song='Get Stupid Fresh Part 1 (2005 Digital Remaster)'),\n",
       " Row(page='Home', userId='100001', auth='Logged In', status=200, song=None),\n",
       " Row(page='NextSong', userId='100001', auth='Logged In', status=200, song='Kiss With A Fist'),\n",
       " Row(page='NextSong', userId='100001', auth='Logged In', status=200, song='Shit On The Radio (Remember The Days)'),\n",
       " Row(page='Roll Advert', userId='100001', auth='Logged In', status=200, song=None),\n",
       " Row(page='NextSong', userId='100001', auth='Logged In', status=200, song='Who Will Save Your Soul'),\n",
       " Row(page='NextSong', userId='100001', auth='Logged In', status=200, song='Wish We Were Older'),\n",
       " Row(page='NextSong', userId='100001', auth='Logged In', status=200, song='Take It From Here'),\n",
       " Row(page='NextSong', userId='100001', auth='Logged In', status=200, song=\"Don't You Think?\"),\n",
       " Row(page='NextSong', userId='100001', auth='Logged In', status=200, song='Indian Summer'),\n",
       " Row(page='Home', userId='100001', auth='Logged In', status=200, song=None),\n",
       " Row(page='NextSong', userId='100001', auth='Logged In', status=200, song='Man Research (Clapper)'),\n",
       " Row(page='Thumbs Down', userId='100001', auth='Logged In', status=307, song=None),\n",
       " Row(page='NextSong', userId='100001', auth='Logged In', status=200, song='Intermission 1'),\n",
       " Row(page='NextSong', userId='100001', auth='Logged In', status=200, song='Who Died'),\n",
       " Row(page='NextSong', userId='100001', auth='Logged In', status=200, song='Blue Sky (Featuring Keith Urban)'),\n",
       " Row(page='NextSong', userId='100001', auth='Logged In', status=200, song=\"Come On_ Let's Go\"),\n",
       " Row(page='Upgrade', userId='100001', auth='Logged In', status=200, song=None),\n",
       " Row(page='NextSong', userId='100001', auth='Logged In', status=200, song='ObservÃ\\x83Â¡ndonos (SatÃ\\x83Â©lites)'),\n",
       " Row(page='NextSong', userId='100001', auth='Logged In', status=200, song='CanÃ\\x83Â§Ã\\x83Â£o Para Um Grande Amor'),\n",
       " Row(page='NextSong', userId='100001', auth='Logged In', status=200, song='Dream On'),\n",
       " Row(page='Roll Advert', userId='100001', auth='Logged In', status=200, song=None),\n",
       " Row(page='NextSong', userId='100001', auth='Logged In', status=200, song='Travels With Myself - And Someone Else (Live)'),\n",
       " Row(page='NextSong', userId='100001', auth='Logged In', status=200, song='Chopper'),\n",
       " Row(page='NextSong', userId='100001', auth='Logged In', status=200, song='Have You Ever Seen The Rain'),\n",
       " Row(page='NextSong', userId='100001', auth='Logged In', status=200, song=\"Let's Get Loud\"),\n",
       " Row(page='Thumbs Up', userId='100001', auth='Logged In', status=307, song=None),\n",
       " Row(page='NextSong', userId='100001', auth='Logged In', status=200, song='Ã\\x83Â\\x9agyis tudom'),\n",
       " Row(page='NextSong', userId='100001', auth='Logged In', status=200, song='Where Did You Sleep Last Night'),\n",
       " Row(page='NextSong', userId='100001', auth='Logged In', status=200, song='Money (Album Version)'),\n",
       " Row(page='NextSong', userId='100001', auth='Logged In', status=200, song='West One (Shine On Me)'),\n",
       " Row(page='NextSong', userId='100001', auth='Logged In', status=200, song='Karma Police'),\n",
       " Row(page='Thumbs Up', userId='100001', auth='Logged In', status=307, song=None),\n",
       " Row(page='NextSong', userId='100001', auth='Logged In', status=200, song='Linus & Lucy'),\n",
       " Row(page='NextSong', userId='100001', auth='Logged In', status=200, song='Starz In Their Eyes'),\n",
       " Row(page='NextSong', userId='100001', auth='Logged In', status=200, song='The Whale Song'),\n",
       " Row(page='Upgrade', userId='100001', auth='Logged In', status=200, song=None),\n",
       " Row(page='NextSong', userId='100001', auth='Logged In', status=200, song='Love And Hate'),\n",
       " Row(page='Roll Advert', userId='100001', auth='Logged In', status=200, song=None),\n",
       " Row(page='Roll Advert', userId='100001', auth='Logged In', status=200, song=None),\n",
       " Row(page='NextSong', userId='100001', auth='Logged In', status=200, song='Electric Feel'),\n",
       " Row(page='NextSong', userId='100001', auth='Logged In', status=200, song='Jumping Jack Flash'),\n",
       " Row(page='NextSong', userId='100001', auth='Logged In', status=200, song='Vegas Collie (feat. A sample from Natvralism\\x19s Nanoloop)'),\n",
       " Row(page='NextSong', userId='100001', auth='Logged In', status=200, song='Rock A My Soul'),\n",
       " Row(page='NextSong', userId='100001', auth='Logged In', status=200, song='Le Courage Des Oiseaux'),\n",
       " Row(page='NextSong', userId='100001', auth='Logged In', status=200, song='The Joke'),\n",
       " Row(page='Add to Playlist', userId='100001', auth='Logged In', status=200, song=None),\n",
       " Row(page='NextSong', userId='100001', auth='Logged In', status=200, song='Raising Hell'),\n",
       " Row(page='Logout', userId='100001', auth='Logged In', status=307, song=None),\n",
       " Row(page='Home', userId='100001', auth='Logged In', status=200, song=None),\n",
       " Row(page='NextSong', userId='100001', auth='Logged In', status=200, song='Wonderful Merciful Savior'),\n",
       " Row(page='Roll Advert', userId='100001', auth='Logged In', status=200, song=None),\n",
       " Row(page='NextSong', userId='100001', auth='Logged In', status=200, song='Lady Marmalade'),\n",
       " Row(page='Roll Advert', userId='100001', auth='Logged In', status=200, song=None),\n",
       " Row(page='NextSong', userId='100001', auth='Logged In', status=200, song='Fire Fire featuring Mr. Vegas'),\n",
       " Row(page='NextSong', userId='100001', auth='Logged In', status=200, song='Bring The Rain'),\n",
       " Row(page='Logout', userId='100001', auth='Logged In', status=307, song=None),\n",
       " Row(page='Home', userId='100001', auth='Logged In', status=200, song=None),\n",
       " Row(page='NextSong', userId='100001', auth='Logged In', status=200, song='Texto Dictador'),\n",
       " Row(page='NextSong', userId='100001', auth='Logged In', status=200, song='Ali In The Jungle'),\n",
       " Row(page='Thumbs Up', userId='100001', auth='Logged In', status=307, song=None),\n",
       " Row(page='NextSong', userId='100001', auth='Logged In', status=200, song='Me And Bobby McGee (Live)'),\n",
       " Row(page='NextSong', userId='100001', auth='Logged In', status=200, song=\"Can't Fight This Feeling\"),\n",
       " Row(page='Add Friend', userId='100001', auth='Logged In', status=307, song=None),\n",
       " Row(page='NextSong', userId='100001', auth='Logged In', status=200, song='Mr Vain'),\n",
       " Row(page='Home', userId='100001', auth='Logged In', status=200, song=None),\n",
       " Row(page='NextSong', userId='100001', auth='Logged In', status=200, song='Werewolves Of London (LP Version)'),\n",
       " Row(page='NextSong', userId='100001', auth='Logged In', status=200, song='If It Means A Lot To You'),\n",
       " Row(page='Thumbs Up', userId='100001', auth='Logged In', status=307, song=None),\n",
       " Row(page='NextSong', userId='100001', auth='Logged In', status=200, song='Sing'),\n",
       " Row(page='Thumbs Up', userId='100001', auth='Logged In', status=307, song=None),\n",
       " Row(page='NextSong', userId='100001', auth='Logged In', status=200, song='Your Ex-Lover Is Dead (Album Version)'),\n",
       " Row(page='NextSong', userId='100001', auth='Logged In', status=200, song='Where Did He Go'),\n",
       " Row(page='NextSong', userId='100001', auth='Logged In', status=200, song=\"Love Comin' Down\"),\n",
       " Row(page='Add to Playlist', userId='100001', auth='Logged In', status=200, song=None),\n",
       " Row(page='Thumbs Up', userId='100001', auth='Logged In', status=307, song=None),\n",
       " Row(page='NextSong', userId='100001', auth='Logged In', status=200, song='Major Tom (Coming Home)'),\n",
       " Row(page='NextSong', userId='100001', auth='Logged In', status=200, song='Forgot About Dre'),\n",
       " Row(page='NextSong', userId='100001', auth='Logged In', status=200, song='D.A.N.C.E [MSTRKRFT Remix]'),\n",
       " Row(page='NextSong', userId='100001', auth='Logged In', status=200, song=\"It Won't Be Long\"),\n",
       " Row(page='NextSong', userId='100001', auth='Logged In', status=200, song=\"Dil Se Re (from the film 'Dil Se')\"),\n",
       " Row(page='NextSong', userId='100001', auth='Logged In', status=200, song='Only The Good Die Young (1998 Digital Remaster)'),\n",
       " Row(page='NextSong', userId='100001', auth='Logged In', status=200, song='I Got Rhythm'),\n",
       " Row(page='NextSong', userId='100001', auth='Logged In', status=200, song='Corn Bread'),\n",
       " Row(page='Error', userId='100001', auth='Logged In', status=404, song=None),\n",
       " Row(page='NextSong', userId='100001', auth='Logged In', status=200, song='Hitsville U.K.'),\n",
       " Row(page='NextSong', userId='100001', auth='Logged In', status=200, song='Never Content'),\n",
       " Row(page='NextSong', userId='100001', auth='Logged In', status=200, song='Tie Me Down [feat. Ray J] (Amended Album Version)'),\n",
       " Row(page='NextSong', userId='100001', auth='Logged In', status=200, song='The Planets Bend Between Us'),\n",
       " Row(page='NextSong', userId='100001', auth='Logged In', status=200, song='Mild Child (Album)'),\n",
       " Row(page='NextSong', userId='100001', auth='Logged In', status=200, song=\"You're The One\"),\n",
       " Row(page='NextSong', userId='100001', auth='Logged In', status=200, song='Canada'),\n",
       " Row(page='NextSong', userId='100001', auth='Logged In', status=200, song='Rescuing Penny'),\n",
       " Row(page='Logout', userId='100001', auth='Logged In', status=307, song=None),\n",
       " Row(page='Home', userId='100001', auth='Logged In', status=200, song=None),\n",
       " Row(page='NextSong', userId='100001', auth='Logged In', status=200, song='KC (LP Version)'),\n",
       " Row(page='NextSong', userId='100001', auth='Logged In', status=200, song='Most Of All (Live)'),\n",
       " Row(page='NextSong', userId='100001', auth='Logged In', status=200, song=\"Tides (C's Movement #1)\"),\n",
       " Row(page='NextSong', userId='100001', auth='Logged In', status=200, song=\"La Mort d'Arthur\"),\n",
       " Row(page='NextSong', userId='100001', auth='Logged In', status=200, song='Amapola'),\n",
       " Row(page='NextSong', userId='100001', auth='Logged In', status=200, song='I Shall Believe'),\n",
       " Row(page='NextSong', userId='100001', auth='Logged In', status=200, song='Paris 2004'),\n",
       " Row(page='Roll Advert', userId='100001', auth='Logged In', status=200, song=None),\n",
       " Row(page='NextSong', userId='100001', auth='Logged In', status=200, song='Jamaica Roots II(Agora E Sempre)'),\n",
       " Row(page='Help', userId='100001', auth='Logged In', status=200, song=None),\n",
       " Row(page='NextSong', userId='100001', auth='Logged In', status=200, song='Samba Da Bencao'),\n",
       " Row(page='NextSong', userId='100001', auth='Logged In', status=200, song='Quando_ Quando_ Quando (Album Version)'),\n",
       " Row(page='NextSong', userId='100001', auth='Logged In', status=200, song='Alejandro'),\n",
       " Row(page='Logout', userId='100001', auth='Logged In', status=307, song=None),\n",
       " Row(page='Home', userId='100001', auth='Logged In', status=200, song=None),\n",
       " Row(page='NextSong', userId='100001', auth='Logged In', status=200, song='Sehr kosmisch'),\n",
       " Row(page='Roll Advert', userId='100001', auth='Logged In', status=200, song=None),\n",
       " Row(page='Cancel', userId='100001', auth='Logged In', status=307, song=None),\n",
       " Row(page='Cancellation Confirmation', userId='100001', auth='Cancelled', status=200, song=None)]"
      ]
     },
     "execution_count": 41,
     "metadata": {},
     "output_type": "execute_result"
    }
   ],
   "source": [
    "sparkify_event_data.select(['page', 'userId', 'auth', 'status', 'song']).where(sparkify_event_data.userId == '100001').collect()"
   ]
  },
  {
   "cell_type": "markdown",
   "metadata": {},
   "source": [
    "The user with id equals to 100001 has listened to a few songs. "
   ]
  },
  {
   "cell_type": "markdown",
   "metadata": {},
   "source": [
    "We will remove the missing values. From the previous comments there are no missing values in userId nor sessionId, however we will remove observations according to the following criteria: \n",
    "\n",
    "* Auth variable is equals to Guest. \n"
   ]
  },
  {
   "cell_type": "code",
   "execution_count": 42,
   "metadata": {},
   "outputs": [],
   "source": [
    "sparkify_event_data = sparkify_event_data.filter(sparkify_event_data[\"auth\"] != \"Guest\")"
   ]
  },
  {
   "cell_type": "code",
   "execution_count": 43,
   "metadata": {},
   "outputs": [
    {
     "data": {
      "text/plain": [
       "286403"
      ]
     },
     "execution_count": 43,
     "metadata": {},
     "output_type": "execute_result"
    }
   ],
   "source": [
    "sparkify_event_data.count()"
   ]
  },
  {
   "cell_type": "markdown",
   "metadata": {},
   "source": [
    "We have removed 286500 - 286403 = 97 observations."
   ]
  },
  {
   "cell_type": "markdown",
   "metadata": {},
   "source": [
    "# Exploratory Data Analysis\n",
    "When you're working with the full dataset, perform EDA by loading a small subset of the data and doing basic manipulations within Spark. In this workspace, you are already provided a small subset of data you can explore.\n",
    "\n",
    "### Define Churn\n",
    "\n",
    "Once you've done some preliminary analysis, create a column `Churn` to use as the label for your model. I suggest using the `Cancellation Confirmation` events to define your churn, which happen for both paid and free users. As a bonus task, you can also look into the `Downgrade` events."
   ]
  },
  {
   "cell_type": "markdown",
   "metadata": {},
   "source": [
    "In order to define the churn variable we will do some exploration. "
   ]
  },
  {
   "cell_type": "code",
   "execution_count": 44,
   "metadata": {},
   "outputs": [],
   "source": [
    "flag_churn_event = udf(lambda x: 1 if x == \"Cancellation Confirmation\" else 0, IntegerType())"
   ]
  },
  {
   "cell_type": "code",
   "execution_count": 45,
   "metadata": {},
   "outputs": [],
   "source": [
    "sparkify_event_data = sparkify_event_data.withColumn(\"churn\", flag_churn_event(\"page\"))"
   ]
  },
  {
   "cell_type": "markdown",
   "metadata": {},
   "source": [
    "We have created the churn column that has the value 1 if the user has cancelled the service, 0 otherwise. We will explore how many times the users have cancelled the service. "
   ]
  },
  {
   "cell_type": "code",
   "execution_count": 46,
   "metadata": {},
   "outputs": [],
   "source": [
    "user_agg_churn = sparkify_event_data.select([\"userId\", \"churn\"]) \\\n",
    "     .groupBy(\"userId\") \\\n",
    "     .agg(Fsum('churn').alias('sum'))"
   ]
  },
  {
   "cell_type": "code",
   "execution_count": 47,
   "metadata": {},
   "outputs": [
    {
     "data": {
      "text/plain": [
       "174"
      ]
     },
     "execution_count": 47,
     "metadata": {},
     "output_type": "execute_result"
    }
   ],
   "source": [
    "user_agg_churn.filter(user_agg_churn[\"sum\"] == 0).count()"
   ]
  },
  {
   "cell_type": "markdown",
   "metadata": {},
   "source": [
    "There are 174 users that have not cancelled the service."
   ]
  },
  {
   "cell_type": "code",
   "execution_count": 48,
   "metadata": {},
   "outputs": [
    {
     "data": {
      "text/plain": [
       "52"
      ]
     },
     "execution_count": 48,
     "metadata": {},
     "output_type": "execute_result"
    }
   ],
   "source": [
    "user_agg_churn.filter(user_agg_churn[\"sum\"] == 1).count()"
   ]
  },
  {
   "cell_type": "markdown",
   "metadata": {},
   "source": [
    "There are 52 users that have cancelled the service."
   ]
  },
  {
   "cell_type": "code",
   "execution_count": 49,
   "metadata": {},
   "outputs": [
    {
     "data": {
      "text/plain": [
       "0"
      ]
     },
     "execution_count": 49,
     "metadata": {},
     "output_type": "execute_result"
    }
   ],
   "source": [
    "user_agg_churn.filter(user_agg_churn[\"sum\"] > 1).count()"
   ]
  },
  {
   "cell_type": "markdown",
   "metadata": {},
   "source": [
    "There are no users that have cancelled the service more than 1 time, it means that there are no users that they returned back to the previous type of service (free or paid)."
   ]
  },
  {
   "cell_type": "markdown",
   "metadata": {},
   "source": [
    "We will find users that had cancelled the service and after that they returned to the service. In order to find these users we will use window functions. "
   ]
  },
  {
   "cell_type": "code",
   "execution_count": 50,
   "metadata": {},
   "outputs": [],
   "source": [
    "churned_users = sparkify_event_data.filter(sparkify_event_data[\"churn\"] == 1)\n",
    "churned_users = churned_users.select(\"userId\").dropDuplicates()\n",
    "churned_users = churned_users.join(sparkify_event_data, on=['userId'], how=\"inner\") \n",
    "churned_users = churned_users.select(\"userId\", \"ts\", \"churn\")\n",
    "windowval = Window.partitionBy(\"userId\").orderBy(desc(\"ts\"))\n",
    "u = churned_users.select(\"userId\", \"ts\", \"churn\", rank().over(windowval).alias(\"ranking\"))"
   ]
  },
  {
   "cell_type": "code",
   "execution_count": 51,
   "metadata": {},
   "outputs": [
    {
     "name": "stdout",
     "output_type": "stream",
     "text": [
      "+------+-------------+-----+-------+\n",
      "|userId|           ts|churn|ranking|\n",
      "+------+-------------+-----+-------+\n",
      "|   125|1539318918000|    0|      1|\n",
      "+------+-------------+-----+-------+\n",
      "\n"
     ]
    }
   ],
   "source": [
    "(u.filter(u[\"ranking\"] == 1)).filter(u[\"churn\"] == 0).show()"
   ]
  },
  {
   "cell_type": "code",
   "execution_count": 52,
   "metadata": {},
   "outputs": [
    {
     "name": "stdout",
     "output_type": "stream",
     "text": [
      "+------+-------------+-----+--------------------+\n",
      "|userId|           ts|churn|                page|\n",
      "+------+-------------+-----+--------------------+\n",
      "|   125|1539317144000|    0|            NextSong|\n",
      "|   125|1539317481000|    0|            NextSong|\n",
      "|   125|1539317711000|    0|            NextSong|\n",
      "|   125|1539317914000|    0|            NextSong|\n",
      "|   125|1539318124000|    0|            NextSong|\n",
      "|   125|1539318515000|    0|            NextSong|\n",
      "|   125|1539318728000|    0|            NextSong|\n",
      "|   125|1539318906000|    0|            NextSong|\n",
      "|   125|1539318917000|    0|         Roll Advert|\n",
      "|   125|1539318918000|    0|              Cancel|\n",
      "|   125|1539318918000|    1|Cancellation Conf...|\n",
      "+------+-------------+-----+--------------------+\n",
      "\n"
     ]
    }
   ],
   "source": [
    "sparkify_event_data.filter(sparkify_event_data[\"userId\"] == 125).select([\"userId\", \"ts\", \"churn\", \"page\"]).show(n=11)"
   ]
  },
  {
   "cell_type": "markdown",
   "metadata": {},
   "source": [
    "It seems that the two last rows have the same value in the ts column, I think this value is a kind of error, it is impossible for a human to do this."
   ]
  },
  {
   "cell_type": "markdown",
   "metadata": {},
   "source": [
    "In order to create the data that will be used by the machine learning model, we will generate the following information for each user: \n",
    "\n",
    "* median, min, max, standard deviation of the length variable \n",
    "* gender \n",
    "* level \n",
    "* method \n",
    "* status \n",
    "\n",
    "We will incorporate the information of the length variable."
   ]
  },
  {
   "cell_type": "code",
   "execution_count": 53,
   "metadata": {},
   "outputs": [],
   "source": [
    "# good reference\n",
    "# https://stackoverflow.com/questions/46845672/median-quantiles-within-pyspark-groupby\n",
    "\n",
    "median_fun = F.expr('percentile_approx(length, 0.5)')\n",
    "\n",
    "length_data = sparkify_event_data.select([\"userId\", \"length\"]) \\\n",
    "                 .filter(sparkify_event_data.length.isNotNull()) \\\n",
    "                 .groupBy(\"userId\") \\\n",
    "                 .agg(median_fun.alias(\"median_length\"), \\\n",
    "                      Fmin(\"length\").alias(\"min_length\"), \n",
    "                      Fmax(\"length\").alias(\"max_length\"), \n",
    "                      Fstddev(\"length\").alias(\"stddev_length\"))"
   ]
  },
  {
   "cell_type": "markdown",
   "metadata": {},
   "source": [
    "We will incorporate the information of the page variable."
   ]
  },
  {
   "cell_type": "code",
   "execution_count": 54,
   "metadata": {},
   "outputs": [],
   "source": [
    "page_data = sparkify_event_data.select([\"userId\", \"page\"]) \\\n",
    "                  .groupBy([\"userId\", \"page\"]) \\\n",
    "                  .agg({'page' : 'count'}) \\\n",
    "                  .withColumnRenamed('count(page)', 'count')\n",
    "\n",
    "\n",
    "# good reference \n",
    "# https://stackoverflow.com/questions/37486910/pivot-string-column-on-pyspark-dataframe\n",
    "# https://databricks.com/blog/2016/02/09/reshaping-data-with-pivot-in-apache-spark.html\n",
    "\n",
    "page_data = page_data.select([\"userId\", \"page\", \"count\"]) \\\n",
    "            .groupby(\"userId\") \\\n",
    "            .pivot(\"page\") \\\n",
    "            .agg(first(\"count\")) \n",
    "\n",
    "\n",
    "page_data = page_data.fillna(0)"
   ]
  },
  {
   "cell_type": "markdown",
   "metadata": {},
   "source": [
    "We will incorporate the information of the level variable."
   ]
  },
  {
   "cell_type": "code",
   "execution_count": 55,
   "metadata": {},
   "outputs": [],
   "source": [
    "level_data = sparkify_event_data.select([\"userId\", \"level\"]) \\\n",
    "                  .groupBy([\"userId\", \"level\"]) \\\n",
    "                  .agg({'level' : 'count'}) \\\n",
    "                  .withColumnRenamed('count(level)', 'count')\n",
    "\n",
    "\n",
    "level_data = level_data.select([\"userId\", \"level\", \"count\"]) \\\n",
    "            .groupby(\"userId\") \\\n",
    "            .pivot(\"level\") \\\n",
    "            .agg(first(\"count\")) \n",
    "\n",
    "level_data = level_data.fillna(0)"
   ]
  },
  {
   "cell_type": "markdown",
   "metadata": {},
   "source": [
    "We will incorporate the information of the status variable."
   ]
  },
  {
   "cell_type": "code",
   "execution_count": 56,
   "metadata": {},
   "outputs": [],
   "source": [
    "status_data = sparkify_event_data.select([\"userId\", \"status\"]) \\\n",
    "                  .groupBy([\"userId\", \"status\"]) \\\n",
    "                  .agg({'status' : 'count'}) \\\n",
    "                  .withColumnRenamed('count(status)', 'count')\n",
    "\n",
    "status_data = status_data.select([\"userId\", \"status\", \"count\"]) \\\n",
    "            .groupby(\"userId\") \\\n",
    "            .pivot(\"status\") \\\n",
    "            .agg(first(\"count\")) \n",
    "\n",
    "status_data = status_data.fillna(0)"
   ]
  },
  {
   "cell_type": "markdown",
   "metadata": {},
   "source": [
    "We will rename the columns in a convenient way, for example it is better to have x200 than  200."
   ]
  },
  {
   "cell_type": "code",
   "execution_count": 57,
   "metadata": {},
   "outputs": [],
   "source": [
    "# good resource \n",
    "# https://stackoverflow.com/questions/38798567/pyspark-rename-more-than-one-column-using-withcolumnrenamed/48095327\n",
    "\n",
    "def rename_columns(df, columns):\n",
    "    \n",
    "    \"\"\" Returns a PySpark dataframe with the name of columns changed. \n",
    "    \n",
    "    Parameters:\n",
    "        df (PySpark dataframe): the PySpark dataframe.  \n",
    "        columns (dictionary): a dictionary with the name of columns to be changed.\n",
    "        \n",
    "    Returns: a PySpark with the name of the columns changed.\n",
    "    \"\"\"    \n",
    "    \n",
    "    \n",
    "    if isinstance(columns, dict):\n",
    "        for old_name, new_name in columns.items():\n",
    "            df = df.withColumnRenamed(old_name, new_name)\n",
    "        return df\n",
    "    else:\n",
    "        raise ValueError(\"'columns' should be a dict, like {'old_name_1':'new_name_1', 'old_name_2':'new_name_2'}\")"
   ]
  },
  {
   "cell_type": "code",
   "execution_count": 58,
   "metadata": {},
   "outputs": [],
   "source": [
    "status_data = rename_columns(status_data, {'200' : 'x200', '307' : 'x307', '404' : 'x404'})"
   ]
  },
  {
   "cell_type": "markdown",
   "metadata": {},
   "source": [
    "We will incorporate the information of the gender."
   ]
  },
  {
   "cell_type": "code",
   "execution_count": 59,
   "metadata": {},
   "outputs": [],
   "source": [
    "gender_data = sparkify_event_data.select([\"userId\", \"gender\"]).distinct()"
   ]
  },
  {
   "cell_type": "markdown",
   "metadata": {},
   "source": [
    "We will create a variable called label_data that will contain the information of the users who have canceled the service and those who not."
   ]
  },
  {
   "cell_type": "code",
   "execution_count": 60,
   "metadata": {},
   "outputs": [],
   "source": [
    "churned_users = sparkify_event_data.select([\"userId\", \"churn\"]) \\\n",
    "                      .filter(sparkify_event_data[\"churn\"] == 1)"
   ]
  },
  {
   "cell_type": "code",
   "execution_count": 61,
   "metadata": {},
   "outputs": [],
   "source": [
    "# good reference\n",
    "# https://stackoverflow.com/questions/32788322/how-to-add-a-constant-column-in-a-spark-dataframe\n",
    "# we remove churned users from active users.\n",
    "\n",
    "active_users = sparkify_event_data.filter(sparkify_event_data[\"churn\"] == 0) \\\n",
    "                    .select(\"userId\").subtract(churned_users.select(\"userId\"))"
   ]
  },
  {
   "cell_type": "code",
   "execution_count": 62,
   "metadata": {},
   "outputs": [],
   "source": [
    "active_users = active_users.withColumn('churn', lit(0))"
   ]
  },
  {
   "cell_type": "code",
   "execution_count": 63,
   "metadata": {},
   "outputs": [],
   "source": [
    "# good reference \n",
    "# https://stackoverflow.com/questions/37332434/concatenate-two-pyspark-dataframes\n",
    "label_data = active_users.union(churned_users)"
   ]
  },
  {
   "cell_type": "markdown",
   "metadata": {},
   "source": [
    "Finally, we will join the information of the following pyspark dataframes: label_data, length_data, page_data, level_data, and status_data."
   ]
  },
  {
   "cell_type": "code",
   "execution_count": 64,
   "metadata": {},
   "outputs": [],
   "source": [
    "processed_data = label_data.join(gender_data, on=['userId'], how=\"inner\")\n",
    "\n",
    "processed_data = processed_data.join(length_data, on=['userId'], how='inner')\n",
    "\n",
    "processed_data = processed_data.join(page_data, on=['userId'], how='inner') \n",
    "\n",
    "processed_data = processed_data.join(level_data, on=['userId'], how='inner') \n",
    "\n",
    "processed_data = processed_data.join(status_data, on=['userId'], how='inner') "
   ]
  },
  {
   "cell_type": "markdown",
   "metadata": {},
   "source": [
    "The user id column is no longer useful that is why we will drop this varible with the following code:"
   ]
  },
  {
   "cell_type": "code",
   "execution_count": 65,
   "metadata": {},
   "outputs": [],
   "source": [
    "# good reference\n",
    "# https://stackoverflow.com/questions/29600673/how-to-delete-columns-in-pyspark-dataframe\n",
    "\n",
    "drop_list = ['userId']\n",
    "processed_data = processed_data.select( \\\n",
    "     [column for column in processed_data.columns if column not in drop_list])"
   ]
  },
  {
   "cell_type": "markdown",
   "metadata": {},
   "source": [
    "### Explore Data\n",
    "Once you've defined churn, perform some exploratory data analysis to observe the behavior for users who stayed vs users who churned. You can start by exploring aggregates on these two groups of users, observing how much of a specific action they experienced per a certain time unit or number of songs played."
   ]
  },
  {
   "cell_type": "markdown",
   "metadata": {},
   "source": [
    "We will convert the data processed to Pandas with the following code."
   ]
  },
  {
   "cell_type": "code",
   "execution_count": 66,
   "metadata": {},
   "outputs": [],
   "source": [
    "processed_data_pd = processed_data.toPandas()"
   ]
  },
  {
   "cell_type": "markdown",
   "metadata": {},
   "source": [
    "Gender vs Churn"
   ]
  },
  {
   "cell_type": "code",
   "execution_count": 67,
   "metadata": {},
   "outputs": [
    {
     "data": {
      "image/png": "[encoded data removed]",
      "text/plain": [
       "<matplotlib.figure.Figure at 0x7f361efddf28>"
      ]
     },
     "metadata": {
      "needs_background": "light"
     },
     "output_type": "display_data"
    }
   ],
   "source": [
    "sns.factorplot(\"gender\", col = \"churn\", col_wrap = 3, \\\n",
    "               data = processed_data_pd, kind = \"count\")\n",
    "plt.show()"
   ]
  },
  {
   "cell_type": "markdown",
   "metadata": {},
   "source": [
    "median_length vs churn"
   ]
  },
  {
   "cell_type": "code",
   "execution_count": 68,
   "metadata": {},
   "outputs": [
    {
     "data": {
      "image/png": "[encoded data removed]",
      "text/plain": [
       "<matplotlib.figure.Figure at 0x7f361cefc3c8>"
      ]
     },
     "metadata": {
      "needs_background": "light"
     },
     "output_type": "display_data"
    }
   ],
   "source": [
    "g = sns.FacetGrid(processed_data_pd, col=\"churn\")\n",
    "g = g.map(plt.hist, \"median_length\")"
   ]
  },
  {
   "cell_type": "markdown",
   "metadata": {},
   "source": [
    "min_length vs churn "
   ]
  },
  {
   "cell_type": "code",
   "execution_count": 69,
   "metadata": {},
   "outputs": [
    {
     "data": {
      "image/png": "[encoded data removed]",
      "text/plain": [
       "<matplotlib.figure.Figure at 0x7f361ce41438>"
      ]
     },
     "metadata": {
      "needs_background": "light"
     },
     "output_type": "display_data"
    }
   ],
   "source": [
    "g = sns.FacetGrid(processed_data_pd, col=\"churn\")\n",
    "g = g.map(plt.hist, \"min_length\")"
   ]
  },
  {
   "cell_type": "markdown",
   "metadata": {},
   "source": [
    "max_length vs churn "
   ]
  },
  {
   "cell_type": "code",
   "execution_count": 70,
   "metadata": {},
   "outputs": [
    {
     "data": {
      "image/png": "[encoded data removed]",
      "text/plain": [
       "<matplotlib.figure.Figure at 0x7f361ccebfd0>"
      ]
     },
     "metadata": {
      "needs_background": "light"
     },
     "output_type": "display_data"
    }
   ],
   "source": [
    "g = sns.FacetGrid(processed_data_pd, col=\"churn\")\n",
    "g = g.map(plt.hist, \"max_length\")"
   ]
  },
  {
   "cell_type": "markdown",
   "metadata": {},
   "source": [
    "stddev_length vs churn "
   ]
  },
  {
   "cell_type": "code",
   "execution_count": 71,
   "metadata": {},
   "outputs": [
    {
     "data": {
      "image/png": "[encoded data removed]",
      "text/plain": [
       "<matplotlib.figure.Figure at 0x7f361cc2b908>"
      ]
     },
     "metadata": {
      "needs_background": "light"
     },
     "output_type": "display_data"
    }
   ],
   "source": [
    "g = sns.FacetGrid(processed_data_pd, col=\"churn\")\n",
    "g = g.map(plt.hist, \"stddev_length\")"
   ]
  },
  {
   "cell_type": "markdown",
   "metadata": {},
   "source": [
    "About vs churn "
   ]
  },
  {
   "cell_type": "code",
   "execution_count": 72,
   "metadata": {},
   "outputs": [
    {
     "data": {
      "image/png": "[encoded data removed]",
      "text/plain": [
       "<matplotlib.figure.Figure at 0x7f361cc19390>"
      ]
     },
     "metadata": {
      "needs_background": "light"
     },
     "output_type": "display_data"
    }
   ],
   "source": [
    "g = sns.FacetGrid(processed_data_pd, col=\"churn\")\n",
    "g = g.map(plt.hist, \"About\")"
   ]
  },
  {
   "cell_type": "markdown",
   "metadata": {},
   "source": [
    "Add Friend vs churn "
   ]
  },
  {
   "cell_type": "code",
   "execution_count": 73,
   "metadata": {},
   "outputs": [
    {
     "data": {
      "image/png": "[encoded data removed]",
      "text/plain": [
       "<matplotlib.figure.Figure at 0x7f361cada2e8>"
      ]
     },
     "metadata": {
      "needs_background": "light"
     },
     "output_type": "display_data"
    }
   ],
   "source": [
    "g = sns.FacetGrid(processed_data_pd, col=\"churn\")\n",
    "g = g.map(plt.hist, \"Add Friend\")"
   ]
  },
  {
   "cell_type": "markdown",
   "metadata": {},
   "source": [
    "Add to Playlist vs churn"
   ]
  },
  {
   "cell_type": "code",
   "execution_count": 74,
   "metadata": {},
   "outputs": [
    {
     "data": {
      "image/png": "[encoded data removed]",
      "text/plain": [
       "<matplotlib.figure.Figure at 0x7f361c9b5908>"
      ]
     },
     "metadata": {
      "needs_background": "light"
     },
     "output_type": "display_data"
    }
   ],
   "source": [
    "g = sns.FacetGrid(processed_data_pd, col=\"churn\")\n",
    "g = g.map(plt.hist, \"Add to Playlist\")"
   ]
  },
  {
   "cell_type": "markdown",
   "metadata": {},
   "source": [
    "'Cancel' vs churn"
   ]
  },
  {
   "cell_type": "code",
   "execution_count": 75,
   "metadata": {},
   "outputs": [
    {
     "data": {
      "image/png": "[encoded data removed]",
      "text/plain": [
       "<matplotlib.figure.Figure at 0x7f361c904588>"
      ]
     },
     "metadata": {
      "needs_background": "light"
     },
     "output_type": "display_data"
    }
   ],
   "source": [
    "g = sns.FacetGrid(processed_data_pd, col=\"churn\")\n",
    "g = g.map(plt.hist, \"Cancel\")"
   ]
  },
  {
   "cell_type": "markdown",
   "metadata": {},
   "source": [
    "We have to exclude the variable Cancel because it will produce a [data leakage](https://machinelearningmastery.com/data-leakage-machine-learning/). "
   ]
  },
  {
   "cell_type": "markdown",
   "metadata": {},
   "source": [
    "Cancellation Confirmation vs churn "
   ]
  },
  {
   "cell_type": "code",
   "execution_count": 76,
   "metadata": {},
   "outputs": [
    {
     "data": {
      "image/png": "[encoded data removed]",
      "text/plain": [
       "<matplotlib.figure.Figure at 0x7f361c866780>"
      ]
     },
     "metadata": {
      "needs_background": "light"
     },
     "output_type": "display_data"
    }
   ],
   "source": [
    "g = sns.FacetGrid(processed_data_pd, col=\"churn\")\n",
    "g = g.map(plt.hist, \"Cancellation Confirmation\")"
   ]
  },
  {
   "cell_type": "markdown",
   "metadata": {},
   "source": [
    "We have to exclude the variable Cancel Confirmation because it will produce a [data leakage](https://machinelearningmastery.com/data-leakage-machine-learning/). "
   ]
  },
  {
   "cell_type": "markdown",
   "metadata": {},
   "source": [
    "Downgrade vs churn"
   ]
  },
  {
   "cell_type": "code",
   "execution_count": 77,
   "metadata": {},
   "outputs": [
    {
     "data": {
      "image/png": "[encoded data removed]",
      "text/plain": [
       "<matplotlib.figure.Figure at 0x7f361c73ccc0>"
      ]
     },
     "metadata": {
      "needs_background": "light"
     },
     "output_type": "display_data"
    }
   ],
   "source": [
    "g = sns.FacetGrid(processed_data_pd, col=\"churn\")\n",
    "g = g.map(plt.hist, 'Downgrade')"
   ]
  },
  {
   "cell_type": "markdown",
   "metadata": {},
   "source": [
    "Error vs churn."
   ]
  },
  {
   "cell_type": "code",
   "execution_count": 78,
   "metadata": {},
   "outputs": [
    {
     "data": {
      "image/png": "[encoded data removed]",
      "text/plain": [
       "<matplotlib.figure.Figure at 0x7f361c8510f0>"
      ]
     },
     "metadata": {
      "needs_background": "light"
     },
     "output_type": "display_data"
    }
   ],
   "source": [
    "g = sns.FacetGrid(processed_data_pd, col=\"churn\")\n",
    "g = g.map(plt.hist, 'Error')"
   ]
  },
  {
   "cell_type": "markdown",
   "metadata": {},
   "source": [
    "Help vs churn"
   ]
  },
  {
   "cell_type": "code",
   "execution_count": 79,
   "metadata": {},
   "outputs": [
    {
     "data": {
      "image/png": "[encoded data removed]",
      "text/plain": [
       "<matplotlib.figure.Figure at 0x7f361ca8f4e0>"
      ]
     },
     "metadata": {
      "needs_background": "light"
     },
     "output_type": "display_data"
    }
   ],
   "source": [
    "g = sns.FacetGrid(processed_data_pd, col=\"churn\")\n",
    "g = g.map(plt.hist, 'Help')"
   ]
  },
  {
   "cell_type": "markdown",
   "metadata": {},
   "source": [
    "Home vs churn "
   ]
  },
  {
   "cell_type": "code",
   "execution_count": 80,
   "metadata": {},
   "outputs": [
    {
     "data": {
      "image/png": "[encoded data removed]",
      "text/plain": [
       "<matplotlib.figure.Figure at 0x7f361ce9b278>"
      ]
     },
     "metadata": {
      "needs_background": "light"
     },
     "output_type": "display_data"
    }
   ],
   "source": [
    "g = sns.FacetGrid(processed_data_pd, col=\"churn\")\n",
    "g = g.map(plt.hist, 'Home')"
   ]
  },
  {
   "cell_type": "markdown",
   "metadata": {},
   "source": [
    "Login vs churn"
   ]
  },
  {
   "cell_type": "code",
   "execution_count": 81,
   "metadata": {},
   "outputs": [
    {
     "data": {
      "image/png": "[encoded data removed]",
      "text/plain": [
       "<matplotlib.figure.Figure at 0x7f361c9a3cf8>"
      ]
     },
     "metadata": {
      "needs_background": "light"
     },
     "output_type": "display_data"
    }
   ],
   "source": [
    "g = sns.FacetGrid(processed_data_pd, col=\"churn\")\n",
    "g = g.map(plt.hist, 'Login')"
   ]
  },
  {
   "cell_type": "code",
   "execution_count": 82,
   "metadata": {},
   "outputs": [
    {
     "data": {
      "text/plain": [
       "array([0])"
      ]
     },
     "execution_count": 82,
     "metadata": {},
     "output_type": "execute_result"
    }
   ],
   "source": [
    "processed_data_pd[\"Login\"].unique()"
   ]
  },
  {
   "cell_type": "markdown",
   "metadata": {},
   "source": [
    "We will exclude the Login variable because there is no variability in this variable."
   ]
  },
  {
   "cell_type": "markdown",
   "metadata": {},
   "source": [
    "Logout vs churn"
   ]
  },
  {
   "cell_type": "code",
   "execution_count": 83,
   "metadata": {},
   "outputs": [
    {
     "data": {
      "image/png": "[encoded data removed]",
      "text/plain": [
       "<matplotlib.figure.Figure at 0x7f361ca3c828>"
      ]
     },
     "metadata": {
      "needs_background": "light"
     },
     "output_type": "display_data"
    }
   ],
   "source": [
    "g = sns.FacetGrid(processed_data_pd, col=\"churn\")\n",
    "g = g.map(plt.hist, 'Logout')"
   ]
  },
  {
   "cell_type": "markdown",
   "metadata": {},
   "source": [
    "NextSong vs churn"
   ]
  },
  {
   "cell_type": "code",
   "execution_count": 84,
   "metadata": {},
   "outputs": [
    {
     "data": {
      "image/png": "[encoded data removed]",
      "text/plain": [
       "<matplotlib.figure.Figure at 0x7f361ce52b38>"
      ]
     },
     "metadata": {
      "needs_background": "light"
     },
     "output_type": "display_data"
    }
   ],
   "source": [
    "g = sns.FacetGrid(processed_data_pd, col=\"churn\")\n",
    "g = g.map(plt.hist, \"NextSong\")\n"
   ]
  },
  {
   "cell_type": "markdown",
   "metadata": {},
   "source": [
    "Roll Advert vs churn"
   ]
  },
  {
   "cell_type": "code",
   "execution_count": 85,
   "metadata": {},
   "outputs": [
    {
     "data": {
      "image/png": "[encoded data removed]",
      "text/plain": [
       "<matplotlib.figure.Figure at 0x7f361cd26eb8>"
      ]
     },
     "metadata": {
      "needs_background": "light"
     },
     "output_type": "display_data"
    }
   ],
   "source": [
    "g = sns.FacetGrid(processed_data_pd, col=\"churn\")\n",
    "g = g.map(plt.hist, \"Roll Advert\")\n"
   ]
  },
  {
   "cell_type": "markdown",
   "metadata": {},
   "source": [
    "Save Settings vs churn"
   ]
  },
  {
   "cell_type": "code",
   "execution_count": 86,
   "metadata": {},
   "outputs": [
    {
     "data": {
      "image/png": "[encoded data removed]",
      "text/plain": [
       "<matplotlib.figure.Figure at 0x7f361cbae2b0>"
      ]
     },
     "metadata": {
      "needs_background": "light"
     },
     "output_type": "display_data"
    }
   ],
   "source": [
    "g = sns.FacetGrid(processed_data_pd, col=\"churn\")\n",
    "g = g.map(plt.hist, \"Save Settings\")\n"
   ]
  },
  {
   "cell_type": "markdown",
   "metadata": {},
   "source": [
    "Submit Downgrade vs churn"
   ]
  },
  {
   "cell_type": "code",
   "execution_count": 87,
   "metadata": {},
   "outputs": [
    {
     "data": {
      "image/png": "[encoded data removed]",
      "text/plain": [
       "<matplotlib.figure.Figure at 0x7f361cc30e80>"
      ]
     },
     "metadata": {
      "needs_background": "light"
     },
     "output_type": "display_data"
    }
   ],
   "source": [
    "g = sns.FacetGrid(processed_data_pd, col=\"churn\")\n",
    "g = g.map(plt.hist, \"Submit Downgrade\")\n"
   ]
  },
  {
   "cell_type": "markdown",
   "metadata": {},
   "source": [
    "Submit Upgrade vs churn"
   ]
  },
  {
   "cell_type": "code",
   "execution_count": 88,
   "metadata": {},
   "outputs": [
    {
     "data": {
      "image/png": "[encoded data removed]",
      "text/plain": [
       "<matplotlib.figure.Figure at 0x7f361c646a20>"
      ]
     },
     "metadata": {
      "needs_background": "light"
     },
     "output_type": "display_data"
    }
   ],
   "source": [
    "g = sns.FacetGrid(processed_data_pd, col=\"churn\")\n",
    "g = g.map(plt.hist, \"Submit Upgrade\")\n"
   ]
  },
  {
   "cell_type": "markdown",
   "metadata": {},
   "source": [
    "Thumbs Down vs churn"
   ]
  },
  {
   "cell_type": "code",
   "execution_count": 89,
   "metadata": {},
   "outputs": [
    {
     "data": {
      "image/png": "[encoded data removed]",
      "text/plain": [
       "<matplotlib.figure.Figure at 0x7f361c5557f0>"
      ]
     },
     "metadata": {
      "needs_background": "light"
     },
     "output_type": "display_data"
    }
   ],
   "source": [
    "g = sns.FacetGrid(processed_data_pd, col=\"churn\")\n",
    "g = g.map(plt.hist, \"Thumbs Down\")\n"
   ]
  },
  {
   "cell_type": "markdown",
   "metadata": {},
   "source": [
    "Thumbs Up vs churn "
   ]
  },
  {
   "cell_type": "code",
   "execution_count": 90,
   "metadata": {},
   "outputs": [
    {
     "data": {
      "image/png": "[encoded data removed]",
      "text/plain": [
       "<matplotlib.figure.Figure at 0x7f361c5fd208>"
      ]
     },
     "metadata": {
      "needs_background": "light"
     },
     "output_type": "display_data"
    }
   ],
   "source": [
    "g = sns.FacetGrid(processed_data_pd, col=\"churn\")\n",
    "g = g.map(plt.hist, \"Thumbs Up\")\n"
   ]
  },
  {
   "cell_type": "markdown",
   "metadata": {},
   "source": [
    "Upgrade vs churn"
   ]
  },
  {
   "cell_type": "code",
   "execution_count": 91,
   "metadata": {},
   "outputs": [
    {
     "data": {
      "image/png": "[encoded data removed]",
      "text/plain": [
       "<matplotlib.figure.Figure at 0x7f361cd774a8>"
      ]
     },
     "metadata": {
      "needs_background": "light"
     },
     "output_type": "display_data"
    }
   ],
   "source": [
    "g = sns.FacetGrid(processed_data_pd, col=\"churn\")\n",
    "g = g.map(plt.hist, \"Upgrade\")\n"
   ]
  },
  {
   "cell_type": "markdown",
   "metadata": {},
   "source": [
    "Free users vs churn"
   ]
  },
  {
   "cell_type": "code",
   "execution_count": 92,
   "metadata": {},
   "outputs": [
    {
     "data": {
      "image/png": "[encoded data removed]",
      "text/plain": [
       "<matplotlib.figure.Figure at 0x7f361cdd0390>"
      ]
     },
     "metadata": {
      "needs_background": "light"
     },
     "output_type": "display_data"
    }
   ],
   "source": [
    "g = sns.FacetGrid(processed_data_pd, col=\"churn\")\n",
    "g = g.map(plt.hist, \"free\")\n"
   ]
  },
  {
   "cell_type": "markdown",
   "metadata": {},
   "source": [
    "Paid users vs churn"
   ]
  },
  {
   "cell_type": "code",
   "execution_count": 93,
   "metadata": {},
   "outputs": [
    {
     "data": {
      "image/png": "[encoded data removed]",
      "text/plain": [
       "<matplotlib.figure.Figure at 0x7f361c640b70>"
      ]
     },
     "metadata": {
      "needs_background": "light"
     },
     "output_type": "display_data"
    }
   ],
   "source": [
    "g = sns.FacetGrid(processed_data_pd, col=\"churn\")\n",
    "g = g.map(plt.hist, \"paid\")\n"
   ]
  },
  {
   "cell_type": "markdown",
   "metadata": {},
   "source": [
    "Http Status Code = 200 (OK)  vs churn"
   ]
  },
  {
   "cell_type": "code",
   "execution_count": 94,
   "metadata": {},
   "outputs": [
    {
     "data": {
      "image/png": "[encoded data removed]",
      "text/plain": [
       "<matplotlib.figure.Figure at 0x7f361ef57390>"
      ]
     },
     "metadata": {
      "needs_background": "light"
     },
     "output_type": "display_data"
    }
   ],
   "source": [
    "g = sns.FacetGrid(processed_data_pd, col=\"churn\")\n",
    "g = g.map(plt.hist, \"x200\")\n"
   ]
  },
  {
   "cell_type": "markdown",
   "metadata": {},
   "source": [
    "Http Status Code = 404 (Page not found) vs churn"
   ]
  },
  {
   "cell_type": "code",
   "execution_count": 95,
   "metadata": {},
   "outputs": [
    {
     "data": {
      "image/png": "[encoded data removed]",
      "text/plain": [
       "<matplotlib.figure.Figure at 0x7f361cbb3278>"
      ]
     },
     "metadata": {
      "needs_background": "light"
     },
     "output_type": "display_data"
    }
   ],
   "source": [
    "g = sns.FacetGrid(processed_data_pd, col=\"churn\")\n",
    "g = g.map(plt.hist, \"x404\")\n"
   ]
  },
  {
   "cell_type": "markdown",
   "metadata": {},
   "source": [
    "Http status code = 307 (Temporary Redirect) vs churn"
   ]
  },
  {
   "cell_type": "code",
   "execution_count": 96,
   "metadata": {},
   "outputs": [
    {
     "data": {
      "image/png": "[encoded data removed]",
      "text/plain": [
       "<matplotlib.figure.Figure at 0x7f361ca4eba8>"
      ]
     },
     "metadata": {
      "needs_background": "light"
     },
     "output_type": "display_data"
    }
   ],
   "source": [
    "g = sns.FacetGrid(processed_data_pd, col=\"churn\")\n",
    "g = g.map(plt.hist, \"x307\")\n"
   ]
  },
  {
   "cell_type": "markdown",
   "metadata": {},
   "source": [
    "From the above we will exclude the following variables: Cancel, Cancellation Confirmation, and Login. Most of the other variables have little correlation with the output variable (churn) since that the distribution of these variables keep right skewed  \n",
    "in each level of the output variable (1 = churned user, 0 = active users). \n",
    "\n",
    "We will use a random forest model in order to evaluate which are the best predictors.\n"
   ]
  },
  {
   "cell_type": "markdown",
   "metadata": {},
   "source": [
    "# Feature Engineering\n",
    "Once you've familiarized yourself with the data, build out the features you find promising to train your model on. To work with the full dataset, you can follow the following steps.\n",
    "- Write a script to extract the necessary features from the smaller subset of data\n",
    "- Ensure that your script is scalable, using the best practices discussed in Lesson 3\n",
    "- Try your script on the full data set, debugging your script if necessary\n",
    "\n",
    "If you are working in the classroom workspace, you can just extract features based on the small subset of data contained here. Be sure to transfer over this work to the larger dataset when you work on your Spark cluster."
   ]
  },
  {
   "cell_type": "code",
   "execution_count": 97,
   "metadata": {},
   "outputs": [],
   "source": [
    "drop_list = ['Cancel', 'Cancellation Confirmation', 'Login' ]\n",
    "processed_data = processed_data.select( \\\n",
    "     [column for column in processed_data.columns if column not in drop_list])"
   ]
  },
  {
   "cell_type": "markdown",
   "metadata": {},
   "source": [
    "# Modeling\n",
    "Split the full dataset into train, test, and validation sets. Test out several of the machine learning methods you learned. Evaluate the accuracy of the various models, tuning parameters as necessary. Determine your winning model based on test accuracy and report results on the validation set. Since the churned users are a fairly small subset, I suggest using F1 score as the metric to optimize.\n",
    "\n",
    "**Note**: I used the following resource as a guide.\n",
    "\n",
    "https://towardsdatascience.com/machine-learning-with-pyspark-and-mllib-solving-a-binary-classification-problem-96396065d2aa"
   ]
  },
  {
   "cell_type": "markdown",
   "metadata": {},
   "source": [
    "### Preparing Data for Machine Learning "
   ]
  },
  {
   "cell_type": "markdown",
   "metadata": {},
   "source": [
    "In order to treat the numeric and categorical variables in a proper way, we will do the following operations:"
   ]
  },
  {
   "cell_type": "code",
   "execution_count": 98,
   "metadata": {},
   "outputs": [],
   "source": [
    "cols = processed_data.columns\n",
    "\n",
    "categoricalColumns = ['gender']\n",
    "\n",
    "stages = [] \n",
    "\n",
    "for categoricalCol in categoricalColumns:    \n",
    "    stringIndexer = StringIndexer(inputCol = categoricalCol, outputCol = categoricalCol + 'Index')\n",
    "    encoder = OneHotEncoderEstimator(inputCols=[stringIndexer.getOutputCol()], outputCols=[categoricalCol + \"classVec\"])\n",
    "    stages += [stringIndexer, encoder]    "
   ]
  },
  {
   "cell_type": "code",
   "execution_count": 99,
   "metadata": {},
   "outputs": [],
   "source": [
    "label_stringIdx = StringIndexer(inputCol = 'churn', outputCol = 'label')\n",
    "stages += [label_stringIdx]"
   ]
  },
  {
   "cell_type": "code",
   "execution_count": 100,
   "metadata": {},
   "outputs": [],
   "source": [
    "numericCols = [ 'churn', 'median_length', 'min_length', 'max_length', \n",
    "                'stddev_length','About', 'Add Friend','Add to Playlist',\n",
    "                'Downgrade', 'Error', 'Help', 'Home', 'Logout', 'NextSong',\n",
    "                'Roll Advert', 'Save Settings', 'Settings', 'Submit Downgrade',\n",
    "                'Submit Upgrade', 'Thumbs Down','Thumbs Up', 'Upgrade','free',\n",
    "                'paid', 'x200','x307', 'x404']\n",
    "\n",
    "assemblerInputs = [c + \"classVec\" for c in categoricalColumns] + numericCols\n",
    "assembler = VectorAssembler(inputCols=assemblerInputs, outputCol=\"features\")\n",
    "stages += [assembler]\n"
   ]
  },
  {
   "cell_type": "code",
   "execution_count": 101,
   "metadata": {},
   "outputs": [],
   "source": [
    "rf = RandomForestClassifier()\n",
    "\n",
    "stages += [rf]"
   ]
  },
  {
   "cell_type": "code",
   "execution_count": 102,
   "metadata": {},
   "outputs": [],
   "source": [
    "pipeline = Pipeline(stages=stages) # genderIndexer,embarkIndexer,genderEncoder,embarkEncoder,"
   ]
  },
  {
   "cell_type": "markdown",
   "metadata": {},
   "source": [
    "### Pipeline\n",
    "\n",
    "We build a pipeline as follows:\n"
   ]
  },
  {
   "cell_type": "code",
   "execution_count": 103,
   "metadata": {},
   "outputs": [],
   "source": [
    "pipeline = Pipeline(stages = stages)"
   ]
  },
  {
   "cell_type": "markdown",
   "metadata": {},
   "source": [
    "### Train Test split "
   ]
  },
  {
   "cell_type": "markdown",
   "metadata": {},
   "source": [
    "We don't use a validation set because we will use cross validation. "
   ]
  },
  {
   "cell_type": "code",
   "execution_count": 104,
   "metadata": {},
   "outputs": [],
   "source": [
    "train, rest = processed_data.randomSplit([0.9, 0.1], seed=123)\n",
    "validation, test = rest.randomSplit([0.5, 0.5], seed=123)"
   ]
  },
  {
   "cell_type": "markdown",
   "metadata": {},
   "source": [
    "### Tune the model "
   ]
  },
  {
   "cell_type": "code",
   "execution_count": 105,
   "metadata": {},
   "outputs": [],
   "source": [
    "pipelinemodel = pipeline.fit(train)"
   ]
  },
  {
   "cell_type": "markdown",
   "metadata": {},
   "source": [
    "### Evaluating the model"
   ]
  },
  {
   "cell_type": "code",
   "execution_count": 106,
   "metadata": {},
   "outputs": [
    {
     "name": "stdout",
     "output_type": "stream",
     "text": [
      "Training Error = 0\n"
     ]
    }
   ],
   "source": [
    "# accuracy in the training dataset\n",
    "predictions = pipelinemodel.transform(train)\n",
    "evaluator = MulticlassClassificationEvaluator(labelCol=\"label\", predictionCol=\"prediction\", metricName=\"f1\")\n",
    "f1 = evaluator.evaluate(predictions)\n",
    "print(\"Training Error = %g\" % (1.0 - f1))"
   ]
  },
  {
   "cell_type": "code",
   "execution_count": 107,
   "metadata": {},
   "outputs": [
    {
     "name": "stdout",
     "output_type": "stream",
     "text": [
      "Validation Error = 0\n"
     ]
    }
   ],
   "source": [
    "# accuracy in the validation dataset\n",
    "predictions = pipelinemodel.transform(validation)\n",
    "evaluator = MulticlassClassificationEvaluator(labelCol=\"label\", predictionCol=\"prediction\", metricName=\"f1\")\n",
    "f1 = evaluator.evaluate(predictions)\n",
    "print(\"Validation Error = %g\" % (1.0 - f1))"
   ]
  },
  {
   "cell_type": "code",
   "execution_count": 108,
   "metadata": {},
   "outputs": [
    {
     "name": "stdout",
     "output_type": "stream",
     "text": [
      "Test Error = 0\n"
     ]
    }
   ],
   "source": [
    "# accuracy in the test dataset\n",
    "predictions = pipelinemodel.transform(test)\n",
    "evaluator = MulticlassClassificationEvaluator(labelCol=\"label\", predictionCol=\"prediction\", metricName=\"f1\")\n",
    "f1 = evaluator.evaluate(predictions)\n",
    "print(\"Test Error = %g\" % (1.0 - f1))"
   ]
  },
  {
   "cell_type": "markdown",
   "metadata": {},
   "source": [
    "It seems that the proposed model works well."
   ]
  },
  {
   "cell_type": "markdown",
   "metadata": {},
   "source": [
    "# Final Steps\n",
    "Clean up your code, adding comments and renaming variables to make the code easier to read and maintain. Refer to the Spark Project Overview page and Data Scientist Capstone Project Rubric to make sure you are including all components of the capstone project and meet all expectations. Remember, this includes thorough documentation in a README file in a Github repository, as well as a web app or blog post."
   ]
  },
  {
   "cell_type": "code",
   "execution_count": null,
   "metadata": {},
   "outputs": [],
   "source": []
  }
 ],
 "metadata": {
  "kernelspec": {
   "display_name": "Python 3",
   "language": "python",
   "name": "python3"
  },
  "language_info": {
   "codemirror_mode": {
    "name": "ipython",
    "version": 3
   },
   "file_extension": ".py",
   "mimetype": "text/x-python",
   "name": "python",
   "nbconvert_exporter": "python",
   "pygments_lexer": "ipython3",
   "version": "3.6.3"
  }
 },
 "nbformat": 4,
 "nbformat_minor": 2
}
